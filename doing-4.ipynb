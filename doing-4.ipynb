{
 "cells": [
  {
   "cell_type": "code",
   "execution_count": 3,
   "metadata": {},
   "outputs": [
    {
     "name": "stdout",
     "output_type": "stream",
     "text": [
      "Hello world!\n"
     ]
    }
   ],
   "source": [
    "var message = \"Hello world!\";\n",
    "console.log(message);"
   ]
  },
  {
   "cell_type": "code",
   "execution_count": 4,
   "metadata": {},
   "outputs": [
    {
     "name": "stdout",
     "output_type": "stream",
     "text": [
      "Hello Nicholas\n",
      "Wow, you have a REALLY long name!\n"
     ]
    }
   ],
   "source": [
    "var name = \"Nicholas\";\n",
    "console.log(\"Hello \" + name);\n",
    "if (name.length > 7) {\n",
    "  console.log(\"Wow, you have a REALLY long name!\");\n",
    "}"
   ]
  },
  {
   "cell_type": "code",
   "execution_count": 5,
   "metadata": {},
   "outputs": [
    {
     "name": "stdout",
     "output_type": "stream",
     "text": [
      "Hello Nicholas\n",
      "Wow, you have a REALLY long name!\n"
     ]
    }
   ],
   "source": [
    "var name = \"Nicholas\";\n",
    "console.log(\"Hello \" + name);\n",
    "if (name.length > 7) {\n",
    "  console.log(\"Wow, you have a REALLY long name!\");\n",
    "} else {\n",
    "  console.log(\"Your name isn't very long.\");\n",
    "}"
   ]
  },
  {
   "cell_type": "code",
   "execution_count": 6,
   "metadata": {},
   "outputs": [
    {
     "name": "stdout",
     "output_type": "stream",
     "text": [
      "I'm having the beef.\n"
     ]
    }
   ],
   "source": [
    "var lemonChicken = false;\n",
    "var beefWithBlackBean = true;\n",
    "var sweetAndSourPork = true;\n",
    "\n",
    "if (lemonChicken) {\n",
    "  console.log(\"Great! I'm having lemon chicken!\");\n",
    "} else if (beefWithBlackBean) {\n",
    "  console.log(\"I'm having the beef.\");\n",
    "} else if (sweetAndSourPork) {\n",
    "  console.log(\"OK, I'll have the pork.\");\n",
    "} else {\n",
    "  console.log(\"Well, I guess I'll have rice then.\");\n",
    "}"
   ]
  },
  {
   "cell_type": "code",
   "execution_count": 7,
   "metadata": {},
   "outputs": [],
   "source": [
    "var lemonChicken = false;\n",
    "var beefWithBlackBean = false;\n",
    "var sweetAndSourPork = false;\n",
    "if (lemonChicken) {\n",
    "  console.log(\"Great! I'm having lemon chicken!\");\n",
    "} else if (beefWithBlackBean) {\n",
    "  console.log(\"I'm having the beef.\");\n",
    "} else if (sweetAndSourPork) {\n",
    "  console.log(\"OK, I'll have the pork.\");\n",
    "}"
   ]
  },
  {
   "cell_type": "code",
   "execution_count": 9,
   "metadata": {},
   "outputs": [
    {
     "name": "stdout",
     "output_type": "stream",
     "text": [
      "I have counted 0 sheep!\n",
      "I have counted 1 sheep!\n",
      "I have counted 2 sheep!\n",
      "I have counted 3 sheep!\n",
      "I have counted 4 sheep!\n",
      "I have counted 5 sheep!\n",
      "I have counted 6 sheep!\n",
      "I have counted 7 sheep!\n",
      "I have counted 8 sheep!\n",
      "I have counted 9 sheep!\n",
      "Zzzzzzzzzzz\n"
     ]
    }
   ],
   "source": [
    "var sheepCounted = 0;\n",
    "while (sheepCounted < 10) {\n",
    "console.log(\"I have counted \" + sheepCounted + \" sheep!\");\n",
    "  sheepCounted++;\n",
    "}\n",
    "console.log(\"Zzzzzzzzzzz\");"
   ]
  },
  {
   "cell_type": "code",
   "execution_count": 10,
   "metadata": {},
   "outputs": [
    {
     "name": "stdout",
     "output_type": "stream",
     "text": [
      "I have counted 0 sheep!\n",
      "I have counted 1 sheep!\n",
      "I have counted 2 sheep!\n",
      "I have counted 3 sheep!\n",
      "I have counted 4 sheep!\n",
      "I have counted 5 sheep!\n",
      "I have counted 6 sheep!\n",
      "I have counted 7 sheep!\n",
      "I have counted 8 sheep!\n",
      "I have counted 9 sheep!\n",
      "Zzzzzzzzzzz\n"
     ]
    }
   ],
   "source": [
    "for (var sheepCounted = 0; sheepCounted < 10; sheepCounted++) {\n",
    "  console.log(\"I have counted \" + sheepCounted + \" sheep!\");\n",
    "}\n",
    "console.log(\"Zzzzzzzzzzz\");"
   ]
  },
  {
   "cell_type": "code",
   "execution_count": 11,
   "metadata": {},
   "outputs": [
    {
     "name": "stdout",
     "output_type": "stream",
     "text": [
      "Hello!\n",
      "Hello!\n",
      "Hello!\n"
     ]
    }
   ],
   "source": [
    "var timesToSayHello = 3;\n",
    "for (var i = 0; i < timesToSayHello; i++) {\n",
    "  console.log(\"Hello!\");\n",
    "}"
   ]
  },
  {
   "cell_type": "code",
   "execution_count": 12,
   "metadata": {},
   "outputs": [
    {
     "name": "stdout",
     "output_type": "stream",
     "text": [
      "This zoo contains a Lion.\n",
      "This zoo contains a Flamingo.\n",
      "This zoo contains a Polar Bear.\n",
      "This zoo contains a Boa Constrictor.\n"
     ]
    }
   ],
   "source": [
    "var animals = [\"Lion\", \"Flamingo\", \"Polar Bear\", \"Boa Constrictor\"];\n",
    "for (var i = 0; i < animals.length; i++) {\n",
    "  console.log(\"This zoo contains a \" + animals[i] + \".\");\n",
    "}"
   ]
  },
  {
   "cell_type": "code",
   "execution_count": 14,
   "metadata": {},
   "outputs": [
    {
     "name": "stdout",
     "output_type": "stream",
     "text": [
      "My name contains the letter R.\n",
      "My name contains the letter o.\n",
      "My name contains the letter g.\n",
      "My name contains the letter e.\n",
      "My name contains the letter r.\n"
     ]
    }
   ],
   "source": [
    "var name = \"Roger\";\n",
    "for (var i = 0; i < name.length; i++) {\n",
    "  console.log(\"My name contains the letter \" + name[i] + \".\");\n",
    "}"
   ]
  },
  {
   "cell_type": "code",
   "execution_count": 15,
   "metadata": {},
   "outputs": [
    {
     "name": "stdout",
     "output_type": "stream",
     "text": [
      "2\n",
      "4\n",
      "8\n",
      "16\n",
      "32\n",
      "64\n",
      "128\n",
      "256\n",
      "512\n",
      "1024\n",
      "2048\n",
      "4096\n",
      "8192\n"
     ]
    }
   ],
   "source": [
    "for (var x = 2; x < 10000; x = x * 2) {\n",
    "  console.log(x);\n",
    "}"
   ]
  },
  {
   "cell_type": "code",
   "execution_count": 18,
   "metadata": {},
   "outputs": [
    {
     "data": {
      "text/plain": [
       "[ 'Awesome Cat',\n",
       "  'Awesome Fish',\n",
       "  'Awesome Lemur',\n",
       "  'Awesome Komodo Dragon' ]"
      ]
     },
     "execution_count": 18,
     "metadata": {},
     "output_type": "execute_result"
    }
   ],
   "source": [
    "var animals = [\"Cat\", \"Fish\", \"Lemur\", \"Komodo Dragon\"];\n",
    "for (var i = 0; i < animals.length; i++) {\n",
    " animals[i] = \"Awesome \" + animals[i];\n",
    "}\n",
    "animals;"
   ]
  }
 ],
 "metadata": {
  "kernelspec": {
   "display_name": "Javascript (Node.js)",
   "language": "javascript",
   "name": "javascript"
  },
  "language_info": {
   "file_extension": ".js",
   "mimetype": "application/javascript",
   "name": "javascript",
   "version": "8.6.0"
  }
 },
 "nbformat": 4,
 "nbformat_minor": 2
}
