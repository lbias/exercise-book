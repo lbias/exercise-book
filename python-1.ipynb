{
 "cells": [
  {
   "cell_type": "code",
   "execution_count": 1,
   "metadata": {},
   "outputs": [
    {
     "data": {
      "text/plain": [
       "2"
      ]
     },
     "execution_count": 1,
     "metadata": {},
     "output_type": "execute_result"
    }
   ],
   "source": [
    "# numbers\n",
    "round(1.5)"
   ]
  },
  {
   "cell_type": "code",
   "execution_count": 2,
   "metadata": {},
   "outputs": [
    {
     "data": {
      "text/plain": [
       "1"
      ]
     },
     "execution_count": 2,
     "metadata": {},
     "output_type": "execute_result"
    }
   ],
   "source": [
    "import math\n",
    "math.floor(1.9)"
   ]
  },
  {
   "cell_type": "code",
   "execution_count": 3,
   "metadata": {},
   "outputs": [
    {
     "data": {
      "text/plain": [
       "2"
      ]
     },
     "execution_count": 3,
     "metadata": {},
     "output_type": "execute_result"
    }
   ],
   "source": [
    "math.ceil(1.1)"
   ]
  },
  {
   "cell_type": "code",
   "execution_count": 4,
   "metadata": {},
   "outputs": [
    {
     "data": {
      "text/plain": [
       "256"
      ]
     },
     "execution_count": 4,
     "metadata": {},
     "output_type": "execute_result"
    }
   ],
   "source": [
    "int(math.pow(2,8))"
   ]
  },
  {
   "cell_type": "code",
   "execution_count": 5,
   "metadata": {},
   "outputs": [
    {
     "data": {
      "text/plain": [
       "256"
      ]
     },
     "execution_count": 5,
     "metadata": {},
     "output_type": "execute_result"
    }
   ],
   "source": [
    "2**8"
   ]
  },
  {
   "cell_type": "code",
   "execution_count": 6,
   "metadata": {},
   "outputs": [
    {
     "data": {
      "text/plain": [
       "54.598150033144236"
      ]
     },
     "execution_count": 6,
     "metadata": {},
     "output_type": "execute_result"
    }
   ],
   "source": [
    "math.exp(4)"
   ]
  },
  {
   "cell_type": "code",
   "execution_count": 7,
   "metadata": {},
   "outputs": [
    {
     "data": {
      "text/plain": [
       "1.0"
      ]
     },
     "execution_count": 7,
     "metadata": {},
     "output_type": "execute_result"
    }
   ],
   "source": [
    "math.log(math.e)"
   ]
  },
  {
   "cell_type": "code",
   "execution_count": 8,
   "metadata": {},
   "outputs": [
    {
     "data": {
      "text/plain": [
       "3.0"
      ]
     },
     "execution_count": 8,
     "metadata": {},
     "output_type": "execute_result"
    }
   ],
   "source": [
    "math.log10(1000)"
   ]
  },
  {
   "cell_type": "code",
   "execution_count": 9,
   "metadata": {},
   "outputs": [
    {
     "data": {
      "text/plain": [
       "3.0"
      ]
     },
     "execution_count": 9,
     "metadata": {},
     "output_type": "execute_result"
    }
   ],
   "source": [
    "math.log2(8)"
   ]
  },
  {
   "cell_type": "code",
   "execution_count": 12,
   "metadata": {},
   "outputs": [
    {
     "name": "stdout",
     "output_type": "stream",
     "text": [
      "type here ------->what's up?\n"
     ]
    }
   ],
   "source": [
    "# Tkinter is Python's de-facto standard GUI (Graphical User Interface) package. \n",
    "import tkinter\n",
    "s = input ('type here ------->')"
   ]
  },
  {
   "cell_type": "code",
   "execution_count": 13,
   "metadata": {},
   "outputs": [
    {
     "data": {
      "text/plain": [
       "\"what's up?\""
      ]
     },
     "execution_count": 13,
     "metadata": {},
     "output_type": "execute_result"
    }
   ],
   "source": [
    "s"
   ]
  },
  {
   "cell_type": "code",
   "execution_count": 14,
   "metadata": {},
   "outputs": [
    {
     "name": "stdout",
     "output_type": "stream",
     "text": [
      "What is your name?:Michael\n"
     ]
    }
   ],
   "source": [
    "name = input('What is your name?:')"
   ]
  },
  {
   "cell_type": "code",
   "execution_count": 15,
   "metadata": {},
   "outputs": [
    {
     "name": "stdout",
     "output_type": "stream",
     "text": [
      "How old are you?:I am one hundred years old.\n"
     ]
    }
   ],
   "source": [
    "age = input('How old are you?:')"
   ]
  },
  {
   "cell_type": "code",
   "execution_count": 16,
   "metadata": {},
   "outputs": [
    {
     "name": "stdout",
     "output_type": "stream",
     "text": [
      "Michael\n",
      "I am one hundred years old.\n"
     ]
    }
   ],
   "source": [
    "print(name)\n",
    "print(age)"
   ]
  },
  {
   "cell_type": "code",
   "execution_count": 17,
   "metadata": {},
   "outputs": [],
   "source": [
    "A = 'part'\n",
    "B = 'george'\n",
    "C = 'hello'"
   ]
  },
  {
   "cell_type": "code",
   "execution_count": 18,
   "metadata": {},
   "outputs": [
    {
     "data": {
      "text/plain": [
       "'part --- george --- hello'"
      ]
     },
     "execution_count": 18,
     "metadata": {},
     "output_type": "execute_result"
    }
   ],
   "source": [
    "\"{} --- {} --- {}\".format(A,B,C)"
   ]
  },
  {
   "cell_type": "code",
   "execution_count": 19,
   "metadata": {},
   "outputs": [
    {
     "data": {
      "text/plain": [
       "'part xxx hello xxx george'"
      ]
     },
     "execution_count": 19,
     "metadata": {},
     "output_type": "execute_result"
    }
   ],
   "source": [
    "\"{} xxx {} xxx {}\".format(A,C,B)"
   ]
  },
  {
   "cell_type": "code",
   "execution_count": 20,
   "metadata": {},
   "outputs": [
    {
     "data": {
      "text/plain": [
       "'hello --- hello --- hello'"
      ]
     },
     "execution_count": 20,
     "metadata": {},
     "output_type": "execute_result"
    }
   ],
   "source": [
    "\"{0} --- {0} --- {0}\".format(C,B,A)"
   ]
  },
  {
   "cell_type": "code",
   "execution_count": 23,
   "metadata": {},
   "outputs": [
    {
     "data": {
      "text/plain": [
       "False"
      ]
     },
     "execution_count": 23,
     "metadata": {},
     "output_type": "execute_result"
    }
   ],
   "source": [
    "# boolean \n",
    "'george' == 'George' and 3 > 4"
   ]
  },
  {
   "cell_type": "code",
   "execution_count": 24,
   "metadata": {},
   "outputs": [],
   "source": [
    "# string, list\n",
    "sentence = \"the quick brown fox jumps over the lazy dog\"\n",
    "words = sentence.split()"
   ]
  },
  {
   "cell_type": "code",
   "execution_count": 25,
   "metadata": {},
   "outputs": [
    {
     "data": {
      "text/plain": [
       "['the', 'quick', 'brown', 'fox', 'jumps', 'over', 'the', 'lazy', 'dog']"
      ]
     },
     "execution_count": 25,
     "metadata": {},
     "output_type": "execute_result"
    }
   ],
   "source": [
    "words"
   ]
  },
  {
   "cell_type": "code",
   "execution_count": 26,
   "metadata": {},
   "outputs": [
    {
     "name": "stdout",
     "output_type": "stream",
     "text": [
      "['the', 'quick', 'brown', 'fox', 'jumps', 'over', 'the', 'lazy', 'dog']\n"
     ]
    }
   ],
   "source": [
    "# conditionals, simple repetition of the for statement\n",
    "word_lengths = []\n",
    "for word in words:\n",
    "    if word != 'the':\n",
    "        word_lengths.append(len(word))\n",
    "print(words)"
   ]
  },
  {
   "cell_type": "code",
   "execution_count": 142,
   "metadata": {},
   "outputs": [
    {
     "data": {
      "text/plain": [
       "[5, 5, 3, 5, 4, 4, 3]"
      ]
     },
     "execution_count": 142,
     "metadata": {},
     "output_type": "execute_result"
    }
   ],
   "source": [
    "word_lengths"
   ]
  },
  {
   "cell_type": "code",
   "execution_count": 27,
   "metadata": {},
   "outputs": [
    {
     "data": {
      "text/plain": [
       "['the', 'quick', 'brown', 'fox', 'jumps', 'over', 'the', 'lazy', 'dog']"
      ]
     },
     "execution_count": 27,
     "metadata": {},
     "output_type": "execute_result"
    }
   ],
   "source": [
    "sentence = \"the quick brown fox jumps over the lazy dog\"\n",
    "words = sentence.split()\n",
    "words"
   ]
  },
  {
   "cell_type": "code",
   "execution_count": 143,
   "metadata": {},
   "outputs": [
    {
     "data": {
      "text/plain": [
       "[5, 5, 3, 5, 4, 4, 3]"
      ]
     },
     "execution_count": 143,
     "metadata": {},
     "output_type": "execute_result"
    }
   ],
   "source": [
    "word_lengths = [len(word) for word in words if word !='the']\n",
    "word_lengths"
   ]
  },
  {
   "cell_type": "code",
   "execution_count": 29,
   "metadata": {},
   "outputs": [
    {
     "name": "stdout",
     "output_type": "stream",
     "text": [
      "['the', 'quick', 'brown', 'fox', 'jumps', 'over', 'the', 'lazy', 'dog']\n"
     ]
    }
   ],
   "source": [
    "print(words)"
   ]
  },
  {
   "cell_type": "code",
   "execution_count": 30,
   "metadata": {},
   "outputs": [
    {
     "name": "stdout",
     "output_type": "stream",
     "text": [
      "this result is using for loop\n",
      "[34.6, 44.9, 68.3, 44.6, 12.7]\n"
     ]
    }
   ],
   "source": [
    "numbers = [34.6, -203.4, 44.9, 68.3, -12.2, 44.6, 12.7]\n",
    "newlist = []\n",
    "for number in numbers:\n",
    "    if number > 0:\n",
    "        newlist.append(number)\n",
    "print('this result is using for loop')\n",
    "print(newlist)\n"
   ]
  },
  {
   "cell_type": "code",
   "execution_count": 31,
   "metadata": {},
   "outputs": [
    {
     "name": "stdout",
     "output_type": "stream",
     "text": [
      "this result used list comprehensions \n",
      "[34, 44, 68, 44, 12]\n",
      "[34.6, 44.9, 68.3, 44.6, 12.7]\n"
     ]
    }
   ],
   "source": [
    "numbers = [34.6, -203.4, 44.9, 68.3, -12.2, 44.6, 12.7]\n",
    "newlist1 = [int(x) for x in numbers if x > 0]\n",
    "newlist2 = [x for x in numbers if x > 0]\n",
    "print('this result used list comprehensions ')\n",
    "print(newlist1)\n",
    "print(newlist2)"
   ]
  },
  {
   "cell_type": "code",
   "execution_count": 32,
   "metadata": {},
   "outputs": [
    {
     "name": "stdout",
     "output_type": "stream",
     "text": [
      "this result used list comprehension\n",
      "[1, 4, 9, 16]\n"
     ]
    }
   ],
   "source": [
    "numbers = [1,2,3,4]\n",
    "squares = [x**2 for x in numbers ]\n",
    "print('this result used list comprehension')\n",
    "print(squares)"
   ]
  },
  {
   "cell_type": "code",
   "execution_count": 33,
   "metadata": {},
   "outputs": [
    {
     "name": "stdout",
     "output_type": "stream",
     "text": [
      "this result used for loop\n",
      "[1, 4, 9, 16]\n"
     ]
    }
   ],
   "source": [
    "numbers = [1,2,3,4]\n",
    "squares = []\n",
    "for x in numbers:\n",
    "    squares.append(x**2)\n",
    "print('this result used for loop')\n",
    "print(squares)"
   ]
  },
  {
   "cell_type": "code",
   "execution_count": 34,
   "metadata": {},
   "outputs": [
    {
     "name": "stdout",
     "output_type": "stream",
     "text": [
      "Find common numbers from two list using for loop\n",
      "[2, 3, 4]\n"
     ]
    }
   ],
   "source": [
    "print('Find common numbers from two list using for loop')\n",
    "list_a = [1,2,3,4]\n",
    "list_b = [2,3,4,5]\n",
    "common_num = []\n",
    "for a in list_a:\n",
    "    for b in list_b:\n",
    "        if a == b:\n",
    "            common_num.append(a)\n",
    "print(common_num)"
   ]
  },
  {
   "cell_type": "code",
   "execution_count": 35,
   "metadata": {},
   "outputs": [
    {
     "name": "stdout",
     "output_type": "stream",
     "text": [
      "[2, 3, 4]\n"
     ]
    }
   ],
   "source": [
    "list_a = [1,2,3,4]\n",
    "list_b = [2,3,4,5]\n",
    "common_num = [a for a in list_a for b in list_b if a == b]\n",
    "print(common_num)"
   ]
  },
  {
   "cell_type": "code",
   "execution_count": 36,
   "metadata": {},
   "outputs": [
    {
     "name": "stdout",
     "output_type": "stream",
     "text": [
      "['hello', 'world', 'in', 'python']\n"
     ]
    }
   ],
   "source": [
    "list_a = ['Hello','World','In','Python']\n",
    "small_list_a = [text.lower() for text in list_a]\n",
    "print(small_list_a)"
   ]
  },
  {
   "cell_type": "code",
   "execution_count": 37,
   "metadata": {},
   "outputs": [
    {
     "name": "stdout",
     "output_type": "stream",
     "text": [
      "[[1, 1], [4, 8], [9, 27]]\n"
     ]
    }
   ],
   "source": [
    "list_a=[1,2,3]\n",
    "square_cube_list = [[a**2,a**3] for a in list_a]\n",
    "print(square_cube_list)"
   ]
  },
  {
   "cell_type": "code",
   "execution_count": 38,
   "metadata": {},
   "outputs": [
    {
     "data": {
      "text/plain": [
       "5"
      ]
     },
     "execution_count": 38,
     "metadata": {},
     "output_type": "execute_result"
    }
   ],
   "source": [
    "def add(x,y):\n",
    "    return x+y\n",
    "add(2,3)\n"
   ]
  },
  {
   "cell_type": "code",
   "execution_count": 39,
   "metadata": {},
   "outputs": [
    {
     "name": "stdout",
     "output_type": "stream",
     "text": [
      "5\n"
     ]
    },
    {
     "data": {
      "text/plain": [
       "function"
      ]
     },
     "execution_count": 39,
     "metadata": {},
     "output_type": "execute_result"
    }
   ],
   "source": [
    "add = lambda x,y : x+y\n",
    "print(add(2,3))\n",
    "type(add)"
   ]
  },
  {
   "cell_type": "code",
   "execution_count": 40,
   "metadata": {},
   "outputs": [],
   "source": [
    "a = [1,2,3,4]\n",
    "b = [5,6,7,8]\n",
    "c = [-1,-2,-3,-4]\n",
    "result = map(lambda x,y : x+y, a,b)"
   ]
  },
  {
   "cell_type": "markdown",
   "metadata": {
    "collapsed": true
   },
   "source": [
    "Lists"
   ]
  },
  {
   "cell_type": "code",
   "execution_count": 41,
   "metadata": {},
   "outputs": [
    {
     "data": {
      "text/plain": [
       "'Monday'"
      ]
     },
     "execution_count": 41,
     "metadata": {},
     "output_type": "execute_result"
    }
   ],
   "source": [
    "days_of_the_week = ['Sunday','Monday','Tuesday','Wednesday','Thursday','Friday','Saturday']\n",
    "days_of_the_week[1]"
   ]
  },
  {
   "cell_type": "code",
   "execution_count": 42,
   "metadata": {},
   "outputs": [
    {
     "data": {
      "text/plain": [
       "'Saturday'"
      ]
     },
     "execution_count": 42,
     "metadata": {},
     "output_type": "execute_result"
    }
   ],
   "source": [
    "days_of_the_week[6]"
   ]
  },
  {
   "cell_type": "code",
   "execution_count": 43,
   "metadata": {},
   "outputs": [
    {
     "data": {
      "text/plain": [
       "'Sunday'"
      ]
     },
     "execution_count": 43,
     "metadata": {},
     "output_type": "execute_result"
    }
   ],
   "source": [
    "days_of_the_week[0]"
   ]
  },
  {
   "cell_type": "code",
   "execution_count": 44,
   "metadata": {},
   "outputs": [
    {
     "data": {
      "text/plain": [
       "'Saturday'"
      ]
     },
     "execution_count": 44,
     "metadata": {},
     "output_type": "execute_result"
    }
   ],
   "source": [
    "days_of_the_week[-1]"
   ]
  },
  {
   "cell_type": "code",
   "execution_count": 45,
   "metadata": {},
   "outputs": [
    {
     "data": {
      "text/plain": [
       "'Sunday'"
      ]
     },
     "execution_count": 45,
     "metadata": {},
     "output_type": "execute_result"
    }
   ],
   "source": [
    "days_of_the_week[-7]"
   ]
  },
  {
   "cell_type": "code",
   "execution_count": 46,
   "metadata": {},
   "outputs": [
    {
     "data": {
      "text/plain": [
       "7"
      ]
     },
     "execution_count": 46,
     "metadata": {},
     "output_type": "execute_result"
    }
   ],
   "source": [
    "len(days_of_the_week)"
   ]
  },
  {
   "cell_type": "code",
   "execution_count": 47,
   "metadata": {},
   "outputs": [
    {
     "name": "stdout",
     "output_type": "stream",
     "text": [
      "Sunday\n",
      "Monday\n",
      "Tuesday\n",
      "Wednesday\n",
      "Thursday\n",
      "Friday\n",
      "Saturday\n"
     ]
    }
   ],
   "source": [
    "for day in days_of_the_week:\n",
    "    print(day)"
   ]
  },
  {
   "cell_type": "code",
   "execution_count": 48,
   "metadata": {},
   "outputs": [
    {
     "name": "stdout",
     "output_type": "stream",
     "text": [
      "H\n",
      "E\n",
      "L\n",
      "L\n",
      "O\n"
     ]
    }
   ],
   "source": [
    "for letter in \"HELLO\":\n",
    "    print(letter)"
   ]
  },
  {
   "cell_type": "code",
   "execution_count": 49,
   "metadata": {},
   "outputs": [
    {
     "name": "stdout",
     "output_type": "stream",
     "text": [
      "Today is Sunday\n",
      "Today is Monday\n",
      "Today is Tuesday\n",
      "Today is Wednesday\n",
      "Today is Thursday\n",
      "Today is Friday\n",
      "Today is Saturday\n"
     ]
    }
   ],
   "source": [
    "for day in days_of_the_week:\n",
    "    statement = 'Today is ' + day\n",
    "    print(statement)"
   ]
  },
  {
   "cell_type": "code",
   "execution_count": 50,
   "metadata": {},
   "outputs": [],
   "source": [
    "number = range(0,20)"
   ]
  },
  {
   "cell_type": "code",
   "execution_count": 51,
   "metadata": {},
   "outputs": [
    {
     "data": {
      "text/plain": [
       "20"
      ]
     },
     "execution_count": 51,
     "metadata": {},
     "output_type": "execute_result"
    }
   ],
   "source": [
    "len(number)"
   ]
  },
  {
   "cell_type": "code",
   "execution_count": 52,
   "metadata": {},
   "outputs": [
    {
     "name": "stdout",
     "output_type": "stream",
     "text": [
      "The square root of  0  is  0\n",
      "The square root of  1  is  1\n",
      "The square root of  2  is  4\n",
      "The square root of  3  is  9\n",
      "The square root of  4  is  16\n",
      "The square root of  5  is  25\n",
      "The square root of  6  is  36\n",
      "The square root of  7  is  49\n",
      "The square root of  8  is  64\n",
      "The square root of  9  is  81\n",
      "The square root of  10  is  100\n",
      "The square root of  11  is  121\n",
      "The square root of  12  is  144\n",
      "The square root of  13  is  169\n",
      "The square root of  14  is  196\n",
      "The square root of  15  is  225\n",
      "The square root of  16  is  256\n",
      "The square root of  17  is  289\n",
      "The square root of  18  is  324\n",
      "The square root of  19  is  361\n"
     ]
    }
   ],
   "source": [
    "for i in number:\n",
    "    print (\"The square root of \", i, \" is \", i*i)"
   ]
  },
  {
   "cell_type": "code",
   "execution_count": 144,
   "metadata": {},
   "outputs": [
    {
     "data": {
      "text/plain": [
       "{'Los Angeles': 18550000,\n",
       " 'New York City': 8400000,\n",
       " 'San Francisco': 1837442,\n",
       " 'Tokyo': 13350000}"
      ]
     },
     "execution_count": 144,
     "metadata": {},
     "output_type": "execute_result"
    }
   ],
   "source": [
    "# list, dictionary\n",
    "city_population = {\n",
    "    'Tokyo': 13350000,\n",
    "    'Los Angeles': 18550000,\n",
    "    'New York City': 8400000,\n",
    "    'San Francisco': 1837442,\n",
    "}\n",
    "city_population"
   ]
  },
  {
   "cell_type": "code",
   "execution_count": 62,
   "metadata": {},
   "outputs": [
    {
     "data": {
      "text/plain": [
       "8400000"
      ]
     },
     "execution_count": 62,
     "metadata": {},
     "output_type": "execute_result"
    }
   ],
   "source": [
    "city_population['New York City']"
   ]
  },
  {
   "cell_type": "code",
   "execution_count": 63,
   "metadata": {},
   "outputs": [
    {
     "data": {
      "text/plain": [
       "dict_keys(['Tokyo', 'Los Angeles', 'New York City', 'San Francisco'])"
      ]
     },
     "execution_count": 63,
     "metadata": {},
     "output_type": "execute_result"
    }
   ],
   "source": [
    "city_population.keys()"
   ]
  },
  {
   "cell_type": "code",
   "execution_count": 64,
   "metadata": {},
   "outputs": [
    {
     "data": {
      "text/plain": [
       "dict_keys"
      ]
     },
     "execution_count": 64,
     "metadata": {},
     "output_type": "execute_result"
    }
   ],
   "source": [
    "type(city_population.keys())"
   ]
  },
  {
   "cell_type": "code",
   "execution_count": 65,
   "metadata": {},
   "outputs": [],
   "source": [
    "city_population['Mumbai'] = 11980000"
   ]
  },
  {
   "cell_type": "code",
   "execution_count": 66,
   "metadata": {},
   "outputs": [
    {
     "data": {
      "text/plain": [
       "dict_items([('Tokyo', 13350000), ('Los Angeles', 18550000), ('New York City', 8400000), ('San Francisco', 1837442), ('Mumbai', 11980000)])"
      ]
     },
     "execution_count": 66,
     "metadata": {},
     "output_type": "execute_result"
    }
   ],
   "source": [
    "city_population.items()"
   ]
  },
  {
   "cell_type": "code",
   "execution_count": 67,
   "metadata": {},
   "outputs": [
    {
     "data": {
      "text/plain": [
       "[('Los Angeles', 18550000),\n",
       " ('Mumbai', 11980000),\n",
       " ('New York City', 8400000),\n",
       " ('San Francisco', 1837442),\n",
       " ('Tokyo', 13350000)]"
      ]
     },
     "execution_count": 67,
     "metadata": {},
     "output_type": "execute_result"
    }
   ],
   "source": [
    "sorted(city_population.items())"
   ]
  },
  {
   "cell_type": "code",
   "execution_count": 68,
   "metadata": {},
   "outputs": [
    {
     "data": {
      "text/plain": [
       "{'Los Angeles': 18550000,\n",
       " 'Mumbai': 11980000,\n",
       " 'New York City': 8400000,\n",
       " 'San Francisco': 1837442,\n",
       " 'Tokyo': 13350000}"
      ]
     },
     "execution_count": 68,
     "metadata": {},
     "output_type": "execute_result"
    }
   ],
   "source": [
    "city_population"
   ]
  },
  {
   "cell_type": "code",
   "execution_count": 69,
   "metadata": {},
   "outputs": [],
   "source": [
    "municipalities = {\n",
    "    'New York City': [\n",
    "        'Manhattan',\n",
    "        'The Bronx',\n",
    "        'Brooklyn',\n",
    "        'Queens',\n",
    "        'Staten Island'\n",
    "    ],\n",
    "    'Tokyo': [\n",
    "        'Akihabara', \n",
    "        'Harajuku', \n",
    "        'Shimokitazawa', \n",
    "        'Nakameguro', \n",
    "        'Shibuya', \n",
    "        'Ebisu/Daikanyama', \n",
    "        'Shibuya District', \n",
    "        'Aoyama', \n",
    "        'Asakusa/Ueno', \n",
    "        'Bunkyo District', \n",
    "        'Ginza', \n",
    "        'Ikebukuro', \n",
    "        'Koto District', \n",
    "        'Meguro District', \n",
    "        'Minato District', \n",
    "        'Roppongi', \n",
    "        'Shinagawa District', \n",
    "        'Shinjuku', \n",
    "        'Shinjuku District', \n",
    "        'Sumida District', \n",
    "        'Tsukiji', \n",
    "        'Tsukishima']\n",
    "}"
   ]
  },
  {
   "cell_type": "code",
   "execution_count": 70,
   "metadata": {},
   "outputs": [
    {
     "data": {
      "text/plain": [
       "{'New York City': ['Manhattan',\n",
       "  'The Bronx',\n",
       "  'Brooklyn',\n",
       "  'Queens',\n",
       "  'Staten Island'],\n",
       " 'Tokyo': ['Akihabara',\n",
       "  'Harajuku',\n",
       "  'Shimokitazawa',\n",
       "  'Nakameguro',\n",
       "  'Shibuya',\n",
       "  'Ebisu/Daikanyama',\n",
       "  'Shibuya District',\n",
       "  'Aoyama',\n",
       "  'Asakusa/Ueno',\n",
       "  'Bunkyo District',\n",
       "  'Ginza',\n",
       "  'Ikebukuro',\n",
       "  'Koto District',\n",
       "  'Meguro District',\n",
       "  'Minato District',\n",
       "  'Roppongi',\n",
       "  'Shinagawa District',\n",
       "  'Shinjuku',\n",
       "  'Shinjuku District',\n",
       "  'Sumida District',\n",
       "  'Tsukiji',\n",
       "  'Tsukishima']}"
      ]
     },
     "execution_count": 70,
     "metadata": {},
     "output_type": "execute_result"
    }
   ],
   "source": [
    "municipalities"
   ]
  },
  {
   "cell_type": "code",
   "execution_count": 71,
   "metadata": {},
   "outputs": [
    {
     "data": {
      "text/plain": [
       "['Manhattan', 'The Bronx', 'Brooklyn', 'Queens', 'Staten Island']"
      ]
     },
     "execution_count": 71,
     "metadata": {},
     "output_type": "execute_result"
    }
   ],
   "source": [
    "municipalities['New York City']"
   ]
  },
  {
   "cell_type": "code",
   "execution_count": 72,
   "metadata": {},
   "outputs": [
    {
     "data": {
      "text/plain": [
       "'Queens'"
      ]
     },
     "execution_count": 72,
     "metadata": {},
     "output_type": "execute_result"
    }
   ],
   "source": [
    "municipalities['New York City'][3]"
   ]
  },
  {
   "cell_type": "code",
   "execution_count": 73,
   "metadata": {},
   "outputs": [
    {
     "data": {
      "text/plain": [
       "dict_keys(['New York City', 'Tokyo'])"
      ]
     },
     "execution_count": 73,
     "metadata": {},
     "output_type": "execute_result"
    }
   ],
   "source": [
    "municipalities.keys()"
   ]
  },
  {
   "cell_type": "code",
   "execution_count": 74,
   "metadata": {},
   "outputs": [
    {
     "data": {
      "text/plain": [
       "dict_values([['Manhattan', 'The Bronx', 'Brooklyn', 'Queens', 'Staten Island'], ['Akihabara', 'Harajuku', 'Shimokitazawa', 'Nakameguro', 'Shibuya', 'Ebisu/Daikanyama', 'Shibuya District', 'Aoyama', 'Asakusa/Ueno', 'Bunkyo District', 'Ginza', 'Ikebukuro', 'Koto District', 'Meguro District', 'Minato District', 'Roppongi', 'Shinagawa District', 'Shinjuku', 'Shinjuku District', 'Sumida District', 'Tsukiji', 'Tsukishima']])"
      ]
     },
     "execution_count": 74,
     "metadata": {},
     "output_type": "execute_result"
    }
   ],
   "source": [
    "municipalities.values()"
   ]
  },
  {
   "cell_type": "code",
   "execution_count": 76,
   "metadata": {},
   "outputs": [
    {
     "name": "stdout",
     "output_type": "stream",
     "text": [
      "<class 'dict'>\n",
      "<class 'list'>\n",
      "<class 'str'>\n"
     ]
    }
   ],
   "source": [
    "print(type(municipalities))\n",
    "print(type(municipalities['Tokyo']))\n",
    "print(type(municipalities['Tokyo'][0]))"
   ]
  },
  {
   "cell_type": "code",
   "execution_count": 77,
   "metadata": {},
   "outputs": [
    {
     "data": {
      "text/plain": [
       "5"
      ]
     },
     "execution_count": 77,
     "metadata": {},
     "output_type": "execute_result"
    }
   ],
   "source": [
    "len(municipalities['New York City'])"
   ]
  },
  {
   "cell_type": "code",
   "execution_count": 78,
   "metadata": {},
   "outputs": [
    {
     "data": {
      "text/plain": [
       "22"
      ]
     },
     "execution_count": 78,
     "metadata": {},
     "output_type": "execute_result"
    }
   ],
   "source": [
    "len(municipalities['Tokyo'])"
   ]
  },
  {
   "cell_type": "code",
   "execution_count": 79,
   "metadata": {},
   "outputs": [
    {
     "data": {
      "text/plain": [
       "'Manhattan'"
      ]
     },
     "execution_count": 79,
     "metadata": {},
     "output_type": "execute_result"
    }
   ],
   "source": [
    "municipalities['New York City'][0]"
   ]
  },
  {
   "cell_type": "code",
   "execution_count": 80,
   "metadata": {},
   "outputs": [
    {
     "data": {
      "text/plain": [
       "9"
      ]
     },
     "execution_count": 80,
     "metadata": {},
     "output_type": "execute_result"
    }
   ],
   "source": [
    "len(municipalities['New York City'][0])"
   ]
  },
  {
   "cell_type": "code",
   "execution_count": 81,
   "metadata": {},
   "outputs": [
    {
     "data": {
      "text/plain": [
       "'Brooklyn'"
      ]
     },
     "execution_count": 81,
     "metadata": {},
     "output_type": "execute_result"
    }
   ],
   "source": [
    "municipalities['New York City'][2]"
   ]
  },
  {
   "cell_type": "code",
   "execution_count": 82,
   "metadata": {},
   "outputs": [
    {
     "data": {
      "text/plain": [
       "8"
      ]
     },
     "execution_count": 82,
     "metadata": {},
     "output_type": "execute_result"
    }
   ],
   "source": [
    "len(municipalities['New York City'][2])"
   ]
  },
  {
   "cell_type": "code",
   "execution_count": 83,
   "metadata": {},
   "outputs": [
    {
     "data": {
      "text/plain": [
       "dict_values([13350000, 18550000, 8400000, 1837442, 11980000])"
      ]
     },
     "execution_count": 83,
     "metadata": {},
     "output_type": "execute_result"
    }
   ],
   "source": [
    "city_population.values()"
   ]
  },
  {
   "cell_type": "code",
   "execution_count": 84,
   "metadata": {},
   "outputs": [
    {
     "data": {
      "text/plain": [
       "dict_values([13350000, 18550000, 8400000, 1837442, 11980000])"
      ]
     },
     "execution_count": 84,
     "metadata": {},
     "output_type": "execute_result"
    }
   ],
   "source": [
    "population_values = city_population.values()\n",
    "population_values"
   ]
  },
  {
   "cell_type": "code",
   "execution_count": 90,
   "metadata": {},
   "outputs": [],
   "source": [
    "import numpy"
   ]
  },
  {
   "cell_type": "code",
   "execution_count": 91,
   "metadata": {},
   "outputs": [
    {
     "data": {
      "text/plain": [
       "dict_values([13350000, 18550000, 8400000, 1837442, 11980000])"
      ]
     },
     "execution_count": 91,
     "metadata": {},
     "output_type": "execute_result"
    }
   ],
   "source": [
    "city_population.values()"
   ]
  },
  {
   "cell_type": "code",
   "execution_count": 92,
   "metadata": {},
   "outputs": [
    {
     "data": {
      "text/plain": [
       "dict_values([13350000, 18550000, 8400000, 1837442, 11980000])"
      ]
     },
     "execution_count": 92,
     "metadata": {},
     "output_type": "execute_result"
    }
   ],
   "source": [
    "population_values = city_population.values()\n",
    "population_values"
   ]
  },
  {
   "cell_type": "code",
   "execution_count": 103,
   "metadata": {},
   "outputs": [
    {
     "data": {
      "text/plain": [
       "10823488.4"
      ]
     },
     "execution_count": 103,
     "metadata": {},
     "output_type": "execute_result"
    }
   ],
   "source": [
    "numpy.mean(list(city_population.values()))"
   ]
  },
  {
   "cell_type": "code",
   "execution_count": 104,
   "metadata": {},
   "outputs": [],
   "source": [
    "import datetime"
   ]
  },
  {
   "cell_type": "code",
   "execution_count": 105,
   "metadata": {},
   "outputs": [],
   "source": [
    "today = datetime.date.today()"
   ]
  },
  {
   "cell_type": "code",
   "execution_count": 106,
   "metadata": {},
   "outputs": [
    {
     "name": "stdout",
     "output_type": "stream",
     "text": [
      "2017-10-11\n"
     ]
    }
   ],
   "source": [
    "print(today)"
   ]
  },
  {
   "cell_type": "code",
   "execution_count": 107,
   "metadata": {},
   "outputs": [
    {
     "data": {
      "text/plain": [
       "2017"
      ]
     },
     "execution_count": 107,
     "metadata": {},
     "output_type": "execute_result"
    }
   ],
   "source": [
    "today.year"
   ]
  },
  {
   "cell_type": "code",
   "execution_count": 108,
   "metadata": {},
   "outputs": [
    {
     "data": {
      "text/plain": [
       "10"
      ]
     },
     "execution_count": 108,
     "metadata": {},
     "output_type": "execute_result"
    }
   ],
   "source": [
    "today.month"
   ]
  },
  {
   "cell_type": "code",
   "execution_count": 109,
   "metadata": {},
   "outputs": [
    {
     "data": {
      "text/plain": [
       "11"
      ]
     },
     "execution_count": 109,
     "metadata": {},
     "output_type": "execute_result"
    }
   ],
   "source": [
    "today.day"
   ]
  },
  {
   "cell_type": "code",
   "execution_count": 110,
   "metadata": {},
   "outputs": [],
   "source": [
    "from urllib.request import urlretrieve"
   ]
  },
  {
   "cell_type": "code",
   "execution_count": 111,
   "metadata": {},
   "outputs": [],
   "source": [
    "import pandas"
   ]
  },
  {
   "cell_type": "code",
   "execution_count": 112,
   "metadata": {},
   "outputs": [],
   "source": [
    "url = 'https://s3.amazonaws.com/assets.datacamp.com/production/course_1606/datasets/winequality-red.csv'"
   ]
  },
  {
   "cell_type": "code",
   "execution_count": 115,
   "metadata": {},
   "outputs": [
    {
     "data": {
      "text/plain": [
       "('winequality-red.csv', <http.client.HTTPMessage at 0x1097d0160>)"
      ]
     },
     "execution_count": 115,
     "metadata": {},
     "output_type": "execute_result"
    }
   ],
   "source": [
    "urlretrieve(url, 'winequality-red.csv')"
   ]
  },
  {
   "cell_type": "code",
   "execution_count": 116,
   "metadata": {},
   "outputs": [],
   "source": [
    "df = pandas.read_csv('winequality-red.csv', sep=';')"
   ]
  },
  {
   "cell_type": "code",
   "execution_count": 117,
   "metadata": {},
   "outputs": [
    {
     "data": {
      "text/html": [
       "<div>\n",
       "<style>\n",
       "    .dataframe thead tr:only-child th {\n",
       "        text-align: right;\n",
       "    }\n",
       "\n",
       "    .dataframe thead th {\n",
       "        text-align: left;\n",
       "    }\n",
       "\n",
       "    .dataframe tbody tr th {\n",
       "        vertical-align: top;\n",
       "    }\n",
       "</style>\n",
       "<table border=\"1\" class=\"dataframe\">\n",
       "  <thead>\n",
       "    <tr style=\"text-align: right;\">\n",
       "      <th></th>\n",
       "      <th>fixed acidity</th>\n",
       "      <th>volatile acidity</th>\n",
       "      <th>citric acid</th>\n",
       "      <th>residual sugar</th>\n",
       "      <th>chlorides</th>\n",
       "      <th>free sulfur dioxide</th>\n",
       "      <th>total sulfur dioxide</th>\n",
       "      <th>density</th>\n",
       "      <th>pH</th>\n",
       "      <th>sulphates</th>\n",
       "      <th>alcohol</th>\n",
       "      <th>quality</th>\n",
       "    </tr>\n",
       "  </thead>\n",
       "  <tbody>\n",
       "    <tr>\n",
       "      <th>0</th>\n",
       "      <td>7.4</td>\n",
       "      <td>0.70</td>\n",
       "      <td>0.00</td>\n",
       "      <td>1.9</td>\n",
       "      <td>0.076</td>\n",
       "      <td>11.0</td>\n",
       "      <td>34.0</td>\n",
       "      <td>0.9978</td>\n",
       "      <td>3.51</td>\n",
       "      <td>0.56</td>\n",
       "      <td>9.4</td>\n",
       "      <td>5</td>\n",
       "    </tr>\n",
       "    <tr>\n",
       "      <th>1</th>\n",
       "      <td>7.8</td>\n",
       "      <td>0.88</td>\n",
       "      <td>0.00</td>\n",
       "      <td>2.6</td>\n",
       "      <td>0.098</td>\n",
       "      <td>25.0</td>\n",
       "      <td>67.0</td>\n",
       "      <td>0.9968</td>\n",
       "      <td>3.20</td>\n",
       "      <td>0.68</td>\n",
       "      <td>9.8</td>\n",
       "      <td>5</td>\n",
       "    </tr>\n",
       "    <tr>\n",
       "      <th>2</th>\n",
       "      <td>7.8</td>\n",
       "      <td>0.76</td>\n",
       "      <td>0.04</td>\n",
       "      <td>2.3</td>\n",
       "      <td>0.092</td>\n",
       "      <td>15.0</td>\n",
       "      <td>54.0</td>\n",
       "      <td>0.9970</td>\n",
       "      <td>3.26</td>\n",
       "      <td>0.65</td>\n",
       "      <td>9.8</td>\n",
       "      <td>5</td>\n",
       "    </tr>\n",
       "    <tr>\n",
       "      <th>3</th>\n",
       "      <td>11.2</td>\n",
       "      <td>0.28</td>\n",
       "      <td>0.56</td>\n",
       "      <td>1.9</td>\n",
       "      <td>0.075</td>\n",
       "      <td>17.0</td>\n",
       "      <td>60.0</td>\n",
       "      <td>0.9980</td>\n",
       "      <td>3.16</td>\n",
       "      <td>0.58</td>\n",
       "      <td>9.8</td>\n",
       "      <td>6</td>\n",
       "    </tr>\n",
       "    <tr>\n",
       "      <th>4</th>\n",
       "      <td>7.4</td>\n",
       "      <td>0.70</td>\n",
       "      <td>0.00</td>\n",
       "      <td>1.9</td>\n",
       "      <td>0.076</td>\n",
       "      <td>11.0</td>\n",
       "      <td>34.0</td>\n",
       "      <td>0.9978</td>\n",
       "      <td>3.51</td>\n",
       "      <td>0.56</td>\n",
       "      <td>9.4</td>\n",
       "      <td>5</td>\n",
       "    </tr>\n",
       "  </tbody>\n",
       "</table>\n",
       "</div>"
      ],
      "text/plain": [
       "   fixed acidity  volatile acidity  citric acid  residual sugar  chlorides  \\\n",
       "0            7.4              0.70         0.00             1.9      0.076   \n",
       "1            7.8              0.88         0.00             2.6      0.098   \n",
       "2            7.8              0.76         0.04             2.3      0.092   \n",
       "3           11.2              0.28         0.56             1.9      0.075   \n",
       "4            7.4              0.70         0.00             1.9      0.076   \n",
       "\n",
       "   free sulfur dioxide  total sulfur dioxide  density    pH  sulphates  \\\n",
       "0                 11.0                  34.0   0.9978  3.51       0.56   \n",
       "1                 25.0                  67.0   0.9968  3.20       0.68   \n",
       "2                 15.0                  54.0   0.9970  3.26       0.65   \n",
       "3                 17.0                  60.0   0.9980  3.16       0.58   \n",
       "4                 11.0                  34.0   0.9978  3.51       0.56   \n",
       "\n",
       "   alcohol  quality  \n",
       "0      9.4        5  \n",
       "1      9.8        5  \n",
       "2      9.8        5  \n",
       "3      9.8        6  \n",
       "4      9.4        5  "
      ]
     },
     "execution_count": 117,
     "metadata": {},
     "output_type": "execute_result"
    }
   ],
   "source": [
    "df.head()"
   ]
  },
  {
   "cell_type": "code",
   "execution_count": 118,
   "metadata": {},
   "outputs": [],
   "source": [
    "url2 = 'https://data.cityofnewyork.us/api/views/varh-9tsp/rows.csv'"
   ]
  },
  {
   "cell_type": "code",
   "execution_count": 119,
   "metadata": {},
   "outputs": [
    {
     "data": {
      "text/plain": [
       "('rows.csv', <http.client.HTTPMessage at 0x1097d07b8>)"
      ]
     },
     "execution_count": 119,
     "metadata": {},
     "output_type": "execute_result"
    }
   ],
   "source": [
    "urlretrieve(url2,'rows.csv')"
   ]
  },
  {
   "cell_type": "code",
   "execution_count": 120,
   "metadata": {},
   "outputs": [],
   "source": [
    "df = pandas.read_csv('rows.csv')"
   ]
  },
  {
   "cell_type": "code",
   "execution_count": 121,
   "metadata": {},
   "outputs": [
    {
     "data": {
      "text/html": [
       "<div>\n",
       "<style>\n",
       "    .dataframe thead tr:only-child th {\n",
       "        text-align: right;\n",
       "    }\n",
       "\n",
       "    .dataframe thead th {\n",
       "        text-align: left;\n",
       "    }\n",
       "\n",
       "    .dataframe tbody tr th {\n",
       "        vertical-align: top;\n",
       "    }\n",
       "</style>\n",
       "<table border=\"1\" class=\"dataframe\">\n",
       "  <thead>\n",
       "    <tr style=\"text-align: right;\">\n",
       "      <th></th>\n",
       "      <th>OBJECTID</th>\n",
       "      <th>the_geom</th>\n",
       "      <th>BORO</th>\n",
       "      <th>TYPE</th>\n",
       "      <th>PROVIDER</th>\n",
       "      <th>NAME</th>\n",
       "      <th>LOCATION</th>\n",
       "      <th>LAT</th>\n",
       "      <th>LON</th>\n",
       "      <th>X</th>\n",
       "      <th>...</th>\n",
       "      <th>NTACODE</th>\n",
       "      <th>NTANAME</th>\n",
       "      <th>COUNDIST</th>\n",
       "      <th>POSTCODE</th>\n",
       "      <th>BOROCD</th>\n",
       "      <th>CT2010</th>\n",
       "      <th>BOROCT2010</th>\n",
       "      <th>BIN</th>\n",
       "      <th>BBL</th>\n",
       "      <th>DOITT_ID</th>\n",
       "    </tr>\n",
       "  </thead>\n",
       "  <tbody>\n",
       "    <tr>\n",
       "      <th>0</th>\n",
       "      <td>998</td>\n",
       "      <td>POINT (-73.99403913047428 40.745968480330795)</td>\n",
       "      <td>MN</td>\n",
       "      <td>Free</td>\n",
       "      <td>LinkNYC - Citybridge</td>\n",
       "      <td>mn-05-123662</td>\n",
       "      <td>179 WEST 26 STREET</td>\n",
       "      <td>40.745968</td>\n",
       "      <td>-73.994039</td>\n",
       "      <td>985901.695307</td>\n",
       "      <td>...</td>\n",
       "      <td>MN17</td>\n",
       "      <td>Midtown-Midtown South</td>\n",
       "      <td>3</td>\n",
       "      <td>10001</td>\n",
       "      <td>105</td>\n",
       "      <td>95</td>\n",
       "      <td>1009500</td>\n",
       "      <td>0</td>\n",
       "      <td>0</td>\n",
       "      <td>1425</td>\n",
       "    </tr>\n",
       "    <tr>\n",
       "      <th>1</th>\n",
       "      <td>999</td>\n",
       "      <td>POINT (-73.98506899944617 40.74461400007714)</td>\n",
       "      <td>MN</td>\n",
       "      <td>Free</td>\n",
       "      <td>LinkNYC - Citybridge</td>\n",
       "      <td>mn-05-123789</td>\n",
       "      <td>25 EAST 29 STREET</td>\n",
       "      <td>40.744614</td>\n",
       "      <td>-73.985069</td>\n",
       "      <td>988387.309473</td>\n",
       "      <td>...</td>\n",
       "      <td>MN17</td>\n",
       "      <td>Midtown-Midtown South</td>\n",
       "      <td>2</td>\n",
       "      <td>10016</td>\n",
       "      <td>105</td>\n",
       "      <td>74</td>\n",
       "      <td>1007400</td>\n",
       "      <td>1016929</td>\n",
       "      <td>1008590024</td>\n",
       "      <td>1426</td>\n",
       "    </tr>\n",
       "    <tr>\n",
       "      <th>2</th>\n",
       "      <td>1000</td>\n",
       "      <td>POINT (-73.98587841945721 40.757665579804524)</td>\n",
       "      <td>MN</td>\n",
       "      <td>Free</td>\n",
       "      <td>LinkNYC - Citybridge</td>\n",
       "      <td>mn-05-133354</td>\n",
       "      <td>1515 BROADWAY</td>\n",
       "      <td>40.757666</td>\n",
       "      <td>-73.985878</td>\n",
       "      <td>988162.256449</td>\n",
       "      <td>...</td>\n",
       "      <td>MN17</td>\n",
       "      <td>Midtown-Midtown South</td>\n",
       "      <td>3</td>\n",
       "      <td>10036</td>\n",
       "      <td>105</td>\n",
       "      <td>119</td>\n",
       "      <td>1011900</td>\n",
       "      <td>1024714</td>\n",
       "      <td>1010160036</td>\n",
       "      <td>1427</td>\n",
       "    </tr>\n",
       "    <tr>\n",
       "      <th>3</th>\n",
       "      <td>1001</td>\n",
       "      <td>POINT (-73.98434199964098 40.75997099956788)</td>\n",
       "      <td>MN</td>\n",
       "      <td>Free</td>\n",
       "      <td>LinkNYC - Citybridge</td>\n",
       "      <td>mn-05-133359</td>\n",
       "      <td>201 WEST 48 STREET</td>\n",
       "      <td>40.759971</td>\n",
       "      <td>-73.984342</td>\n",
       "      <td>988587.757617</td>\n",
       "      <td>...</td>\n",
       "      <td>MN17</td>\n",
       "      <td>Midtown-Midtown South</td>\n",
       "      <td>4</td>\n",
       "      <td>10036</td>\n",
       "      <td>105</td>\n",
       "      <td>125</td>\n",
       "      <td>1012500</td>\n",
       "      <td>1076195</td>\n",
       "      <td>1010200046</td>\n",
       "      <td>1428</td>\n",
       "    </tr>\n",
       "    <tr>\n",
       "      <th>4</th>\n",
       "      <td>1002</td>\n",
       "      <td>POINT (-73.98454079962323 40.760412940068946)</td>\n",
       "      <td>MN</td>\n",
       "      <td>Free</td>\n",
       "      <td>LinkNYC - Citybridge</td>\n",
       "      <td>mn-05-133361</td>\n",
       "      <td>1600 Broadway</td>\n",
       "      <td>40.760413</td>\n",
       "      <td>-73.984541</td>\n",
       "      <td>988532.655360</td>\n",
       "      <td>...</td>\n",
       "      <td>MN17</td>\n",
       "      <td>Midtown-Midtown South</td>\n",
       "      <td>4</td>\n",
       "      <td>10019</td>\n",
       "      <td>105</td>\n",
       "      <td>125</td>\n",
       "      <td>1012500</td>\n",
       "      <td>1087187</td>\n",
       "      <td>1010207502</td>\n",
       "      <td>1429</td>\n",
       "    </tr>\n",
       "    <tr>\n",
       "      <th>5</th>\n",
       "      <td>1003</td>\n",
       "      <td>POINT (-73.98307690020869 40.76259329961947)</td>\n",
       "      <td>MN</td>\n",
       "      <td>Free</td>\n",
       "      <td>LinkNYC - Citybridge</td>\n",
       "      <td>mn-05-133505</td>\n",
       "      <td>1668 Broadway</td>\n",
       "      <td>40.762593</td>\n",
       "      <td>-73.983077</td>\n",
       "      <td>988938.045460</td>\n",
       "      <td>...</td>\n",
       "      <td>MN17</td>\n",
       "      <td>Midtown-Midtown South</td>\n",
       "      <td>4</td>\n",
       "      <td>10019</td>\n",
       "      <td>105</td>\n",
       "      <td>131</td>\n",
       "      <td>1013100</td>\n",
       "      <td>1024818</td>\n",
       "      <td>1010230029</td>\n",
       "      <td>1430</td>\n",
       "    </tr>\n",
       "    <tr>\n",
       "      <th>6</th>\n",
       "      <td>1004</td>\n",
       "      <td>POINT (-73.98427739026059 40.760882769705795)</td>\n",
       "      <td>MN</td>\n",
       "      <td>Free</td>\n",
       "      <td>LinkNYC - Citybridge</td>\n",
       "      <td>mn-05-133508</td>\n",
       "      <td>1626 Broadway</td>\n",
       "      <td>40.760883</td>\n",
       "      <td>-73.984277</td>\n",
       "      <td>988605.596992</td>\n",
       "      <td>...</td>\n",
       "      <td>MN17</td>\n",
       "      <td>Midtown-Midtown South</td>\n",
       "      <td>4</td>\n",
       "      <td>10019</td>\n",
       "      <td>105</td>\n",
       "      <td>125</td>\n",
       "      <td>1012500</td>\n",
       "      <td>1024795</td>\n",
       "      <td>1010210026</td>\n",
       "      <td>1431</td>\n",
       "    </tr>\n",
       "    <tr>\n",
       "      <th>7</th>\n",
       "      <td>1005</td>\n",
       "      <td>POINT (-73.9842828912446 40.760632174440964)</td>\n",
       "      <td>MN</td>\n",
       "      <td>Free</td>\n",
       "      <td>LinkNYC - Citybridge</td>\n",
       "      <td>mn-05-133511</td>\n",
       "      <td>1606 Broadway</td>\n",
       "      <td>40.760632</td>\n",
       "      <td>-73.984283</td>\n",
       "      <td>988604.089229</td>\n",
       "      <td>...</td>\n",
       "      <td>MN17</td>\n",
       "      <td>Midtown-Midtown South</td>\n",
       "      <td>4</td>\n",
       "      <td>10019</td>\n",
       "      <td>105</td>\n",
       "      <td>125</td>\n",
       "      <td>1012500</td>\n",
       "      <td>1024779</td>\n",
       "      <td>1010200038</td>\n",
       "      <td>1432</td>\n",
       "    </tr>\n",
       "    <tr>\n",
       "      <th>8</th>\n",
       "      <td>1006</td>\n",
       "      <td>POINT (-73.97973824055805 40.752335260337226)</td>\n",
       "      <td>MN</td>\n",
       "      <td>Free</td>\n",
       "      <td>LinkNYC - Citybridge</td>\n",
       "      <td>mn-05-133538</td>\n",
       "      <td>300 Madison Ave</td>\n",
       "      <td>40.752335</td>\n",
       "      <td>-73.979738</td>\n",
       "      <td>989863.787144</td>\n",
       "      <td>...</td>\n",
       "      <td>MN20</td>\n",
       "      <td>Murray Hill-Kips Bay</td>\n",
       "      <td>4</td>\n",
       "      <td>10017</td>\n",
       "      <td>105</td>\n",
       "      <td>82</td>\n",
       "      <td>1008200</td>\n",
       "      <td>1085972</td>\n",
       "      <td>1012760058</td>\n",
       "      <td>1433</td>\n",
       "    </tr>\n",
       "    <tr>\n",
       "      <th>9</th>\n",
       "      <td>1007</td>\n",
       "      <td>POINT (-73.97681672944039 40.750832729663784)</td>\n",
       "      <td>MN</td>\n",
       "      <td>Free</td>\n",
       "      <td>LinkNYC - Citybridge</td>\n",
       "      <td>mn-05-133550</td>\n",
       "      <td>370 Lexington Ave</td>\n",
       "      <td>40.750833</td>\n",
       "      <td>-73.976817</td>\n",
       "      <td>990673.374782</td>\n",
       "      <td>...</td>\n",
       "      <td>MN20</td>\n",
       "      <td>Murray Hill-Kips Bay</td>\n",
       "      <td>4</td>\n",
       "      <td>10017</td>\n",
       "      <td>105</td>\n",
       "      <td>80</td>\n",
       "      <td>1008000</td>\n",
       "      <td>1036150</td>\n",
       "      <td>1012950058</td>\n",
       "      <td>1434</td>\n",
       "    </tr>\n",
       "    <tr>\n",
       "      <th>10</th>\n",
       "      <td>1008</td>\n",
       "      <td>POINT (-73.98155980014904 40.74983207004283)</td>\n",
       "      <td>MN</td>\n",
       "      <td>Free</td>\n",
       "      <td>LinkNYC - Citybridge</td>\n",
       "      <td>mn-05-133558</td>\n",
       "      <td>232 Madison Ave</td>\n",
       "      <td>40.749832</td>\n",
       "      <td>-73.981560</td>\n",
       "      <td>989359.291976</td>\n",
       "      <td>...</td>\n",
       "      <td>MN20</td>\n",
       "      <td>Murray Hill-Kips Bay</td>\n",
       "      <td>4</td>\n",
       "      <td>10016</td>\n",
       "      <td>105</td>\n",
       "      <td>82</td>\n",
       "      <td>1008200</td>\n",
       "      <td>1017194</td>\n",
       "      <td>1008670015</td>\n",
       "      <td>1435</td>\n",
       "    </tr>\n",
       "    <tr>\n",
       "      <th>11</th>\n",
       "      <td>1009</td>\n",
       "      <td>POINT (-73.99510999964427 40.74972800027015)</td>\n",
       "      <td>MN</td>\n",
       "      <td>Free</td>\n",
       "      <td>LinkNYC - Citybridge</td>\n",
       "      <td>mn-05-133689</td>\n",
       "      <td>402 8 Avenue</td>\n",
       "      <td>40.749728</td>\n",
       "      <td>-73.995110</td>\n",
       "      <td>985604.891865</td>\n",
       "      <td>...</td>\n",
       "      <td>MN17</td>\n",
       "      <td>Midtown-Midtown South</td>\n",
       "      <td>3</td>\n",
       "      <td>10001</td>\n",
       "      <td>105</td>\n",
       "      <td>101</td>\n",
       "      <td>1010100</td>\n",
       "      <td>1014332</td>\n",
       "      <td>1007800001</td>\n",
       "      <td>1436</td>\n",
       "    </tr>\n",
       "    <tr>\n",
       "      <th>12</th>\n",
       "      <td>1010</td>\n",
       "      <td>POINT (-73.97514297013922 40.75864931039507)</td>\n",
       "      <td>MN</td>\n",
       "      <td>Free</td>\n",
       "      <td>LinkNYC - Citybridge</td>\n",
       "      <td>mn-05-134122</td>\n",
       "      <td>488 Madison Ave</td>\n",
       "      <td>40.758649</td>\n",
       "      <td>-73.975143</td>\n",
       "      <td>991136.314338</td>\n",
       "      <td>...</td>\n",
       "      <td>MN17</td>\n",
       "      <td>Midtown-Midtown South</td>\n",
       "      <td>4</td>\n",
       "      <td>10022</td>\n",
       "      <td>105</td>\n",
       "      <td>102</td>\n",
       "      <td>1010200</td>\n",
       "      <td>1035470</td>\n",
       "      <td>1012870014</td>\n",
       "      <td>1437</td>\n",
       "    </tr>\n",
       "    <tr>\n",
       "      <th>13</th>\n",
       "      <td>1011</td>\n",
       "      <td>POINT (-73.984633629782 40.76071760039906)</td>\n",
       "      <td>MN</td>\n",
       "      <td>Free</td>\n",
       "      <td>LinkNYC - Citybridge</td>\n",
       "      <td>mn-05-134155</td>\n",
       "      <td>1611 Broadway</td>\n",
       "      <td>40.760718</td>\n",
       "      <td>-73.984634</td>\n",
       "      <td>988506.919235</td>\n",
       "      <td>...</td>\n",
       "      <td>MN17</td>\n",
       "      <td>Midtown-Midtown South</td>\n",
       "      <td>3</td>\n",
       "      <td>10019</td>\n",
       "      <td>105</td>\n",
       "      <td>125</td>\n",
       "      <td>1012500</td>\n",
       "      <td>1076195</td>\n",
       "      <td>1010200046</td>\n",
       "      <td>1438</td>\n",
       "    </tr>\n",
       "    <tr>\n",
       "      <th>14</th>\n",
       "      <td>1012</td>\n",
       "      <td>POINT (-73.97235755960719 40.76246695042087)</td>\n",
       "      <td>MN</td>\n",
       "      <td>Free</td>\n",
       "      <td>LinkNYC - Citybridge</td>\n",
       "      <td>mn-05-134168</td>\n",
       "      <td>598 Madison Ave</td>\n",
       "      <td>40.762467</td>\n",
       "      <td>-73.972358</td>\n",
       "      <td>991907.536730</td>\n",
       "      <td>...</td>\n",
       "      <td>MN17</td>\n",
       "      <td>Midtown-Midtown South</td>\n",
       "      <td>4</td>\n",
       "      <td>10022</td>\n",
       "      <td>105</td>\n",
       "      <td>11202</td>\n",
       "      <td>1011202</td>\n",
       "      <td>1036060</td>\n",
       "      <td>1012930016</td>\n",
       "      <td>1439</td>\n",
       "    </tr>\n",
       "    <tr>\n",
       "      <th>15</th>\n",
       "      <td>1013</td>\n",
       "      <td>POINT (-73.98485669974454 40.76026604038283)</td>\n",
       "      <td>MN</td>\n",
       "      <td>Free</td>\n",
       "      <td>LinkNYC - Citybridge</td>\n",
       "      <td>mn-05-134185</td>\n",
       "      <td>1605 Broadway</td>\n",
       "      <td>40.760266</td>\n",
       "      <td>-73.984857</td>\n",
       "      <td>988445.150976</td>\n",
       "      <td>...</td>\n",
       "      <td>MN17</td>\n",
       "      <td>Midtown-Midtown South</td>\n",
       "      <td>3</td>\n",
       "      <td>10019</td>\n",
       "      <td>105</td>\n",
       "      <td>125</td>\n",
       "      <td>1012500</td>\n",
       "      <td>1076195</td>\n",
       "      <td>1010200046</td>\n",
       "      <td>1440</td>\n",
       "    </tr>\n",
       "    <tr>\n",
       "      <th>16</th>\n",
       "      <td>1014</td>\n",
       "      <td>POINT (-73.9840119596612 40.76023531989322)</td>\n",
       "      <td>MN</td>\n",
       "      <td>Free</td>\n",
       "      <td>LinkNYC - Citybridge</td>\n",
       "      <td>mn-05-134211</td>\n",
       "      <td>736 7 AVENUE</td>\n",
       "      <td>40.760235</td>\n",
       "      <td>-73.984012</td>\n",
       "      <td>988679.171482</td>\n",
       "      <td>...</td>\n",
       "      <td>MN17</td>\n",
       "      <td>Midtown-Midtown South</td>\n",
       "      <td>4</td>\n",
       "      <td>10019</td>\n",
       "      <td>105</td>\n",
       "      <td>125</td>\n",
       "      <td>1012500</td>\n",
       "      <td>1024777</td>\n",
       "      <td>1010200035</td>\n",
       "      <td>1441</td>\n",
       "    </tr>\n",
       "    <tr>\n",
       "      <th>17</th>\n",
       "      <td>1015</td>\n",
       "      <td>POINT (-73.97274461932047 40.76151071412763)</td>\n",
       "      <td>MN</td>\n",
       "      <td>Free</td>\n",
       "      <td>LinkNYC - Citybridge</td>\n",
       "      <td>mn-05-134222</td>\n",
       "      <td>555 Madison Ave</td>\n",
       "      <td>40.761511</td>\n",
       "      <td>-73.972745</td>\n",
       "      <td>991800.421556</td>\n",
       "      <td>...</td>\n",
       "      <td>MN17</td>\n",
       "      <td>Midtown-Midtown South</td>\n",
       "      <td>4</td>\n",
       "      <td>10022</td>\n",
       "      <td>105</td>\n",
       "      <td>102</td>\n",
       "      <td>1010200</td>\n",
       "      <td>1035775</td>\n",
       "      <td>1012910051</td>\n",
       "      <td>1442</td>\n",
       "    </tr>\n",
       "    <tr>\n",
       "      <th>18</th>\n",
       "      <td>1016</td>\n",
       "      <td>POINT (-73.98353750025105 40.760526620346845)</td>\n",
       "      <td>MN</td>\n",
       "      <td>Free</td>\n",
       "      <td>LinkNYC - Citybridge</td>\n",
       "      <td>mn-05-134283</td>\n",
       "      <td>745 7 AVENUE</td>\n",
       "      <td>40.760527</td>\n",
       "      <td>-73.983537</td>\n",
       "      <td>988810.591330</td>\n",
       "      <td>...</td>\n",
       "      <td>MN17</td>\n",
       "      <td>Midtown-Midtown South</td>\n",
       "      <td>4</td>\n",
       "      <td>10019</td>\n",
       "      <td>105</td>\n",
       "      <td>125</td>\n",
       "      <td>1012500</td>\n",
       "      <td>1084667</td>\n",
       "      <td>1010020001</td>\n",
       "      <td>1443</td>\n",
       "    </tr>\n",
       "    <tr>\n",
       "      <th>19</th>\n",
       "      <td>26</td>\n",
       "      <td>POINT (-73.96399099973121 40.6574519996605)</td>\n",
       "      <td>BK</td>\n",
       "      <td>Limited Free</td>\n",
       "      <td>ALTICEUSA</td>\n",
       "      <td>Prospect Park</td>\n",
       "      <td>Skate Rental Area</td>\n",
       "      <td>40.657452</td>\n",
       "      <td>-73.963991</td>\n",
       "      <td>994240.977381</td>\n",
       "      <td>...</td>\n",
       "      <td>BK99</td>\n",
       "      <td>park-cemetery-etc-Brooklyn</td>\n",
       "      <td>39</td>\n",
       "      <td>11215</td>\n",
       "      <td>355</td>\n",
       "      <td>177</td>\n",
       "      <td>3017700</td>\n",
       "      <td>3391508</td>\n",
       "      <td>3011170001</td>\n",
       "      <td>894</td>\n",
       "    </tr>\n",
       "    <tr>\n",
       "      <th>20</th>\n",
       "      <td>1017</td>\n",
       "      <td>POINT (-73.99342732901681 40.73611175460224)</td>\n",
       "      <td>MN</td>\n",
       "      <td>Free</td>\n",
       "      <td>LinkNYC - Citybridge</td>\n",
       "      <td>mn-05-134468</td>\n",
       "      <td>69 5Th Ave</td>\n",
       "      <td>40.736112</td>\n",
       "      <td>-73.993427</td>\n",
       "      <td>986071.488377</td>\n",
       "      <td>...</td>\n",
       "      <td>MN13</td>\n",
       "      <td>Hudson Yards-Chelsea-Flatiron-Union Square</td>\n",
       "      <td>2</td>\n",
       "      <td>10003</td>\n",
       "      <td>105</td>\n",
       "      <td>52</td>\n",
       "      <td>1005200</td>\n",
       "      <td>1016061</td>\n",
       "      <td>1008427501</td>\n",
       "      <td>1444</td>\n",
       "    </tr>\n",
       "    <tr>\n",
       "      <th>21</th>\n",
       "      <td>1018</td>\n",
       "      <td>POINT (-73.98873983042944 40.734147649661395)</td>\n",
       "      <td>MN</td>\n",
       "      <td>Free</td>\n",
       "      <td>LinkNYC - Citybridge</td>\n",
       "      <td>mn-05-134620</td>\n",
       "      <td>117 East 14Th St</td>\n",
       "      <td>40.734148</td>\n",
       "      <td>-73.988740</td>\n",
       "      <td>987370.630021</td>\n",
       "      <td>...</td>\n",
       "      <td>MN21</td>\n",
       "      <td>Gramercy</td>\n",
       "      <td>2</td>\n",
       "      <td>10003</td>\n",
       "      <td>105</td>\n",
       "      <td>50</td>\n",
       "      <td>1005000</td>\n",
       "      <td>1083247</td>\n",
       "      <td>1008707501</td>\n",
       "      <td>1445</td>\n",
       "    </tr>\n",
       "    <tr>\n",
       "      <th>22</th>\n",
       "      <td>1019</td>\n",
       "      <td>POINT (-73.98309027971149 40.761141970298425)</td>\n",
       "      <td>MN</td>\n",
       "      <td>Free</td>\n",
       "      <td>LinkNYC - Citybridge</td>\n",
       "      <td>mn-05-134736</td>\n",
       "      <td>777 7 AVENUE</td>\n",
       "      <td>40.761142</td>\n",
       "      <td>-73.983090</td>\n",
       "      <td>988934.440999</td>\n",
       "      <td>...</td>\n",
       "      <td>MN17</td>\n",
       "      <td>Midtown-Midtown South</td>\n",
       "      <td>4</td>\n",
       "      <td>10019</td>\n",
       "      <td>105</td>\n",
       "      <td>131</td>\n",
       "      <td>1013100</td>\n",
       "      <td>1022710</td>\n",
       "      <td>1010037501</td>\n",
       "      <td>1446</td>\n",
       "    </tr>\n",
       "    <tr>\n",
       "      <th>23</th>\n",
       "      <td>1020</td>\n",
       "      <td>POINT (-73.97958520001451 40.75254481970809)</td>\n",
       "      <td>MN</td>\n",
       "      <td>Free</td>\n",
       "      <td>LinkNYC - Citybridge</td>\n",
       "      <td>mn-05-135892</td>\n",
       "      <td>300 Madison Ave</td>\n",
       "      <td>40.752545</td>\n",
       "      <td>-73.979585</td>\n",
       "      <td>989906.171094</td>\n",
       "      <td>...</td>\n",
       "      <td>MN20</td>\n",
       "      <td>Murray Hill-Kips Bay</td>\n",
       "      <td>4</td>\n",
       "      <td>10017</td>\n",
       "      <td>105</td>\n",
       "      <td>82</td>\n",
       "      <td>1008200</td>\n",
       "      <td>1085972</td>\n",
       "      <td>1012760058</td>\n",
       "      <td>1447</td>\n",
       "    </tr>\n",
       "    <tr>\n",
       "      <th>24</th>\n",
       "      <td>1021</td>\n",
       "      <td>POINT (-73.99555300007853 40.74912200017118)</td>\n",
       "      <td>MN</td>\n",
       "      <td>Free</td>\n",
       "      <td>LinkNYC - Citybridge</td>\n",
       "      <td>mn-05-136213</td>\n",
       "      <td>382 8 Avenue</td>\n",
       "      <td>40.749122</td>\n",
       "      <td>-73.995553</td>\n",
       "      <td>985482.159291</td>\n",
       "      <td>...</td>\n",
       "      <td>MN17</td>\n",
       "      <td>Midtown-Midtown South</td>\n",
       "      <td>3</td>\n",
       "      <td>10001</td>\n",
       "      <td>105</td>\n",
       "      <td>95</td>\n",
       "      <td>1009500</td>\n",
       "      <td>1014277</td>\n",
       "      <td>1007790001</td>\n",
       "      <td>1448</td>\n",
       "    </tr>\n",
       "    <tr>\n",
       "      <th>25</th>\n",
       "      <td>1022</td>\n",
       "      <td>POINT (-73.98593571966606 40.746719760007004)</td>\n",
       "      <td>MN</td>\n",
       "      <td>Free</td>\n",
       "      <td>LinkNYC - Citybridge</td>\n",
       "      <td>mn-05-136688</td>\n",
       "      <td>302 5 AVENUE</td>\n",
       "      <td>40.746720</td>\n",
       "      <td>-73.985936</td>\n",
       "      <td>988147.022285</td>\n",
       "      <td>...</td>\n",
       "      <td>MN17</td>\n",
       "      <td>Midtown-Midtown South</td>\n",
       "      <td>4</td>\n",
       "      <td>10001</td>\n",
       "      <td>105</td>\n",
       "      <td>76</td>\n",
       "      <td>1007600</td>\n",
       "      <td>1015816</td>\n",
       "      <td>1008330038</td>\n",
       "      <td>1449</td>\n",
       "    </tr>\n",
       "    <tr>\n",
       "      <th>26</th>\n",
       "      <td>1023</td>\n",
       "      <td>POINT (-73.99499300032076 40.74987999975493)</td>\n",
       "      <td>MN</td>\n",
       "      <td>Free</td>\n",
       "      <td>LinkNYC - Citybridge</td>\n",
       "      <td>mn-05-136910</td>\n",
       "      <td>408 8 Avenue</td>\n",
       "      <td>40.749880</td>\n",
       "      <td>-73.994993</td>\n",
       "      <td>985637.306358</td>\n",
       "      <td>...</td>\n",
       "      <td>MN17</td>\n",
       "      <td>Midtown-Midtown South</td>\n",
       "      <td>3</td>\n",
       "      <td>10001</td>\n",
       "      <td>105</td>\n",
       "      <td>101</td>\n",
       "      <td>1010100</td>\n",
       "      <td>1014351</td>\n",
       "      <td>1007807501</td>\n",
       "      <td>1450</td>\n",
       "    </tr>\n",
       "    <tr>\n",
       "      <th>27</th>\n",
       "      <td>1024</td>\n",
       "      <td>POINT (-73.9818807495442 40.76220989996661)</td>\n",
       "      <td>MN</td>\n",
       "      <td>Free</td>\n",
       "      <td>LinkNYC - Citybridge</td>\n",
       "      <td>mn-05-137157</td>\n",
       "      <td>159 WEST 52 STREET</td>\n",
       "      <td>40.762210</td>\n",
       "      <td>-73.981881</td>\n",
       "      <td>989269.432408</td>\n",
       "      <td>...</td>\n",
       "      <td>MN17</td>\n",
       "      <td>Midtown-Midtown South</td>\n",
       "      <td>4</td>\n",
       "      <td>10019</td>\n",
       "      <td>105</td>\n",
       "      <td>131</td>\n",
       "      <td>1013100</td>\n",
       "      <td>1023159</td>\n",
       "      <td>1010050001</td>\n",
       "      <td>1451</td>\n",
       "    </tr>\n",
       "    <tr>\n",
       "      <th>28</th>\n",
       "      <td>1025</td>\n",
       "      <td>POINT (-73.97652976006606 40.756742180411685)</td>\n",
       "      <td>MN</td>\n",
       "      <td>Free</td>\n",
       "      <td>LinkNYC - Citybridge</td>\n",
       "      <td>mn-05-137210</td>\n",
       "      <td>410 Madison Ave</td>\n",
       "      <td>40.756742</td>\n",
       "      <td>-73.976530</td>\n",
       "      <td>990752.308524</td>\n",
       "      <td>...</td>\n",
       "      <td>MN17</td>\n",
       "      <td>Midtown-Midtown South</td>\n",
       "      <td>4</td>\n",
       "      <td>10017</td>\n",
       "      <td>105</td>\n",
       "      <td>94</td>\n",
       "      <td>1009400</td>\n",
       "      <td>1035437</td>\n",
       "      <td>1012840014</td>\n",
       "      <td>1452</td>\n",
       "    </tr>\n",
       "    <tr>\n",
       "      <th>29</th>\n",
       "      <td>1026</td>\n",
       "      <td>POINT (-73.99643400039932 40.747905000342676)</td>\n",
       "      <td>MN</td>\n",
       "      <td>Free</td>\n",
       "      <td>LinkNYC - Citybridge</td>\n",
       "      <td>mn-05-137326</td>\n",
       "      <td>243 West 27Th St</td>\n",
       "      <td>40.747905</td>\n",
       "      <td>-73.996434</td>\n",
       "      <td>985238.072926</td>\n",
       "      <td>...</td>\n",
       "      <td>MN17</td>\n",
       "      <td>Midtown-Midtown South</td>\n",
       "      <td>3</td>\n",
       "      <td>10001</td>\n",
       "      <td>105</td>\n",
       "      <td>95</td>\n",
       "      <td>1009500</td>\n",
       "      <td>1014251</td>\n",
       "      <td>1007770018</td>\n",
       "      <td>1453</td>\n",
       "    </tr>\n",
       "    <tr>\n",
       "      <th>...</th>\n",
       "      <td>...</td>\n",
       "      <td>...</td>\n",
       "      <td>...</td>\n",
       "      <td>...</td>\n",
       "      <td>...</td>\n",
       "      <td>...</td>\n",
       "      <td>...</td>\n",
       "      <td>...</td>\n",
       "      <td>...</td>\n",
       "      <td>...</td>\n",
       "      <td>...</td>\n",
       "      <td>...</td>\n",
       "      <td>...</td>\n",
       "      <td>...</td>\n",
       "      <td>...</td>\n",
       "      <td>...</td>\n",
       "      <td>...</td>\n",
       "      <td>...</td>\n",
       "      <td>...</td>\n",
       "      <td>...</td>\n",
       "      <td>...</td>\n",
       "    </tr>\n",
       "    <tr>\n",
       "      <th>2536</th>\n",
       "      <td>2537</td>\n",
       "      <td>POINT (-73.94786799984885 40.82544599964419)</td>\n",
       "      <td>MN</td>\n",
       "      <td>Free</td>\n",
       "      <td>LinkNYC - Citybridge</td>\n",
       "      <td>mn-09-100210</td>\n",
       "      <td>501 West 145 Street</td>\n",
       "      <td>40.825446</td>\n",
       "      <td>-73.947868</td>\n",
       "      <td>998678.003242</td>\n",
       "      <td>...</td>\n",
       "      <td>MN04</td>\n",
       "      <td>Hamilton Heights</td>\n",
       "      <td>7</td>\n",
       "      <td>10031</td>\n",
       "      <td>109</td>\n",
       "      <td>229</td>\n",
       "      <td>1022900</td>\n",
       "      <td>1061939</td>\n",
       "      <td>1020770029</td>\n",
       "      <td>2319</td>\n",
       "    </tr>\n",
       "    <tr>\n",
       "      <th>2537</th>\n",
       "      <td>2538</td>\n",
       "      <td>POINT (-73.94465899972445 40.81889699977109)</td>\n",
       "      <td>MN</td>\n",
       "      <td>Free</td>\n",
       "      <td>LinkNYC - Citybridge</td>\n",
       "      <td>mn-10-119890</td>\n",
       "      <td>2604 FREDERICK DOUGLASS BLVD</td>\n",
       "      <td>40.818897</td>\n",
       "      <td>-73.944659</td>\n",
       "      <td>999567.630366</td>\n",
       "      <td>...</td>\n",
       "      <td>MN03</td>\n",
       "      <td>Central Harlem North-Polo Grounds</td>\n",
       "      <td>9</td>\n",
       "      <td>10030</td>\n",
       "      <td>110</td>\n",
       "      <td>230</td>\n",
       "      <td>1023000</td>\n",
       "      <td>1060322</td>\n",
       "      <td>1020240064</td>\n",
       "      <td>2385</td>\n",
       "    </tr>\n",
       "    <tr>\n",
       "      <th>2538</th>\n",
       "      <td>2539</td>\n",
       "      <td>POINT (-73.98198780945361 40.76617478959079)</td>\n",
       "      <td>MN</td>\n",
       "      <td>Free</td>\n",
       "      <td>LinkNYC - Citybridge</td>\n",
       "      <td>mn-05-122522</td>\n",
       "      <td>250 West 57St</td>\n",
       "      <td>40.766175</td>\n",
       "      <td>-73.981988</td>\n",
       "      <td>989239.477391</td>\n",
       "      <td>...</td>\n",
       "      <td>MN17</td>\n",
       "      <td>Midtown-Midtown South</td>\n",
       "      <td>3</td>\n",
       "      <td>10107</td>\n",
       "      <td>105</td>\n",
       "      <td>137</td>\n",
       "      <td>1013700</td>\n",
       "      <td>1024899</td>\n",
       "      <td>1010280056</td>\n",
       "      <td>2092</td>\n",
       "    </tr>\n",
       "    <tr>\n",
       "      <th>2539</th>\n",
       "      <td>2540</td>\n",
       "      <td>POINT (-73.98230855991379 40.76412672039278)</td>\n",
       "      <td>MN</td>\n",
       "      <td>Free</td>\n",
       "      <td>LinkNYC - Citybridge</td>\n",
       "      <td>mn-05-122529</td>\n",
       "      <td>1710 Broadway</td>\n",
       "      <td>40.764127</td>\n",
       "      <td>-73.982309</td>\n",
       "      <td>989150.778549</td>\n",
       "      <td>...</td>\n",
       "      <td>MN17</td>\n",
       "      <td>Midtown-Midtown South</td>\n",
       "      <td>4</td>\n",
       "      <td>10019</td>\n",
       "      <td>105</td>\n",
       "      <td>137</td>\n",
       "      <td>1013700</td>\n",
       "      <td>1024850</td>\n",
       "      <td>1010260021</td>\n",
       "      <td>2093</td>\n",
       "    </tr>\n",
       "    <tr>\n",
       "      <th>2540</th>\n",
       "      <td>2541</td>\n",
       "      <td>POINT (-73.98236264008422 40.76467195960161)</td>\n",
       "      <td>MN</td>\n",
       "      <td>Free</td>\n",
       "      <td>LinkNYC - Citybridge</td>\n",
       "      <td>mn-05-122532</td>\n",
       "      <td>1725 Broadway</td>\n",
       "      <td>40.764672</td>\n",
       "      <td>-73.982363</td>\n",
       "      <td>989135.757628</td>\n",
       "      <td>...</td>\n",
       "      <td>MN17</td>\n",
       "      <td>Midtown-Midtown South</td>\n",
       "      <td>3</td>\n",
       "      <td>10019</td>\n",
       "      <td>105</td>\n",
       "      <td>137</td>\n",
       "      <td>1013700</td>\n",
       "      <td>1078860</td>\n",
       "      <td>1010267502</td>\n",
       "      <td>2094</td>\n",
       "    </tr>\n",
       "    <tr>\n",
       "      <th>2541</th>\n",
       "      <td>2542</td>\n",
       "      <td>POINT (-73.98262882960573 40.763978079685025)</td>\n",
       "      <td>MN</td>\n",
       "      <td>Free</td>\n",
       "      <td>LinkNYC - Citybridge</td>\n",
       "      <td>mn-05-122541</td>\n",
       "      <td>1701 Broadway</td>\n",
       "      <td>40.763978</td>\n",
       "      <td>-73.982629</td>\n",
       "      <td>989062.069979</td>\n",
       "      <td>...</td>\n",
       "      <td>MN17</td>\n",
       "      <td>Midtown-Midtown South</td>\n",
       "      <td>3</td>\n",
       "      <td>10019</td>\n",
       "      <td>105</td>\n",
       "      <td>131</td>\n",
       "      <td>1013100</td>\n",
       "      <td>1024839</td>\n",
       "      <td>1010250044</td>\n",
       "      <td>2095</td>\n",
       "    </tr>\n",
       "    <tr>\n",
       "      <th>2542</th>\n",
       "      <td>2543</td>\n",
       "      <td>POINT (-73.98682800027184 40.761094000340414)</td>\n",
       "      <td>MN</td>\n",
       "      <td>Free</td>\n",
       "      <td>LinkNYC - Citybridge</td>\n",
       "      <td>mn-05-122586</td>\n",
       "      <td>790 8 Avenue</td>\n",
       "      <td>40.761094</td>\n",
       "      <td>-73.986828</td>\n",
       "      <td>987898.996046</td>\n",
       "      <td>...</td>\n",
       "      <td>MN17</td>\n",
       "      <td>Midtown-Midtown South</td>\n",
       "      <td>3</td>\n",
       "      <td>10019</td>\n",
       "      <td>105</td>\n",
       "      <td>125</td>\n",
       "      <td>1012500</td>\n",
       "      <td>1024771</td>\n",
       "      <td>1010207501</td>\n",
       "      <td>2096</td>\n",
       "    </tr>\n",
       "    <tr>\n",
       "      <th>2543</th>\n",
       "      <td>2544</td>\n",
       "      <td>POINT (-73.9873129997412 40.7602830000139)</td>\n",
       "      <td>MN</td>\n",
       "      <td>Free</td>\n",
       "      <td>LinkNYC - Citybridge</td>\n",
       "      <td>mn-05-122591</td>\n",
       "      <td>270 WEST 47 STREET</td>\n",
       "      <td>40.760283</td>\n",
       "      <td>-73.987313</td>\n",
       "      <td>987764.680879</td>\n",
       "      <td>...</td>\n",
       "      <td>MN17</td>\n",
       "      <td>Midtown-Midtown South</td>\n",
       "      <td>3</td>\n",
       "      <td>10036</td>\n",
       "      <td>105</td>\n",
       "      <td>125</td>\n",
       "      <td>1012500</td>\n",
       "      <td>1024748</td>\n",
       "      <td>1010180061</td>\n",
       "      <td>2097</td>\n",
       "    </tr>\n",
       "    <tr>\n",
       "      <th>2544</th>\n",
       "      <td>2545</td>\n",
       "      <td>POINT (-73.98592299953167 40.76233100001673)</td>\n",
       "      <td>MN</td>\n",
       "      <td>Free</td>\n",
       "      <td>LinkNYC - Citybridge</td>\n",
       "      <td>mn-05-122593</td>\n",
       "      <td>830 8 Avenue</td>\n",
       "      <td>40.762331</td>\n",
       "      <td>-73.985923</td>\n",
       "      <td>988149.632807</td>\n",
       "      <td>...</td>\n",
       "      <td>MN17</td>\n",
       "      <td>Midtown-Midtown South</td>\n",
       "      <td>3</td>\n",
       "      <td>10019</td>\n",
       "      <td>105</td>\n",
       "      <td>131</td>\n",
       "      <td>1013100</td>\n",
       "      <td>1024808</td>\n",
       "      <td>1010220001</td>\n",
       "      <td>2098</td>\n",
       "    </tr>\n",
       "    <tr>\n",
       "      <th>2545</th>\n",
       "      <td>2546</td>\n",
       "      <td>POINT (-73.98471930982711 40.76399634998395)</td>\n",
       "      <td>MN</td>\n",
       "      <td>Free</td>\n",
       "      <td>LinkNYC - Citybridge</td>\n",
       "      <td>mn-05-122608</td>\n",
       "      <td>888 8 AVENUE</td>\n",
       "      <td>40.763996</td>\n",
       "      <td>-73.984719</td>\n",
       "      <td>988482.975070</td>\n",
       "      <td>...</td>\n",
       "      <td>MN17</td>\n",
       "      <td>Midtown-Midtown South</td>\n",
       "      <td>3</td>\n",
       "      <td>10019</td>\n",
       "      <td>105</td>\n",
       "      <td>131</td>\n",
       "      <td>1013100</td>\n",
       "      <td>1024825</td>\n",
       "      <td>1010240001</td>\n",
       "      <td>2099</td>\n",
       "    </tr>\n",
       "    <tr>\n",
       "      <th>2546</th>\n",
       "      <td>2547</td>\n",
       "      <td>POINT (-73.98498723009939 40.76361577001061)</td>\n",
       "      <td>MN</td>\n",
       "      <td>Free</td>\n",
       "      <td>LinkNYC - Citybridge</td>\n",
       "      <td>mn-05-122609</td>\n",
       "      <td>870 8TH AVENUE</td>\n",
       "      <td>40.763616</td>\n",
       "      <td>-73.984987</td>\n",
       "      <td>988408.781068</td>\n",
       "      <td>...</td>\n",
       "      <td>MN17</td>\n",
       "      <td>Midtown-Midtown South</td>\n",
       "      <td>3</td>\n",
       "      <td>10019</td>\n",
       "      <td>105</td>\n",
       "      <td>131</td>\n",
       "      <td>1013100</td>\n",
       "      <td>1024825</td>\n",
       "      <td>1010240001</td>\n",
       "      <td>2100</td>\n",
       "    </tr>\n",
       "    <tr>\n",
       "      <th>2547</th>\n",
       "      <td>2548</td>\n",
       "      <td>POINT (-73.98422945056423 40.764646190388795)</td>\n",
       "      <td>MN</td>\n",
       "      <td>Free</td>\n",
       "      <td>LinkNYC - Citybridge</td>\n",
       "      <td>mn-05-122615</td>\n",
       "      <td>900 8 Avenue</td>\n",
       "      <td>40.764646</td>\n",
       "      <td>-73.984229</td>\n",
       "      <td>988618.630843</td>\n",
       "      <td>...</td>\n",
       "      <td>MN17</td>\n",
       "      <td>Midtown-Midtown South</td>\n",
       "      <td>3</td>\n",
       "      <td>10019</td>\n",
       "      <td>105</td>\n",
       "      <td>131</td>\n",
       "      <td>1013100</td>\n",
       "      <td>1024832</td>\n",
       "      <td>1010257502</td>\n",
       "      <td>2101</td>\n",
       "    </tr>\n",
       "    <tr>\n",
       "      <th>2548</th>\n",
       "      <td>2549</td>\n",
       "      <td>POINT (-73.98409943961784 40.76482318009721)</td>\n",
       "      <td>MN</td>\n",
       "      <td>Free</td>\n",
       "      <td>LinkNYC - Citybridge</td>\n",
       "      <td>mn-05-122619</td>\n",
       "      <td>910 8 Avenue</td>\n",
       "      <td>40.764823</td>\n",
       "      <td>-73.984099</td>\n",
       "      <td>988654.633461</td>\n",
       "      <td>...</td>\n",
       "      <td>MN17</td>\n",
       "      <td>Midtown-Midtown South</td>\n",
       "      <td>3</td>\n",
       "      <td>10019</td>\n",
       "      <td>105</td>\n",
       "      <td>137</td>\n",
       "      <td>1013700</td>\n",
       "      <td>0</td>\n",
       "      <td>1010260055</td>\n",
       "      <td>2102</td>\n",
       "    </tr>\n",
       "    <tr>\n",
       "      <th>2549</th>\n",
       "      <td>2550</td>\n",
       "      <td>POINT (-73.9833678703945 40.76582961962458)</td>\n",
       "      <td>MN</td>\n",
       "      <td>Free</td>\n",
       "      <td>LinkNYC - Citybridge</td>\n",
       "      <td>mn-05-122622</td>\n",
       "      <td>944 8 Avenue</td>\n",
       "      <td>40.765830</td>\n",
       "      <td>-73.983368</td>\n",
       "      <td>988857.216933</td>\n",
       "      <td>...</td>\n",
       "      <td>MN17</td>\n",
       "      <td>Midtown-Midtown South</td>\n",
       "      <td>3</td>\n",
       "      <td>10019</td>\n",
       "      <td>105</td>\n",
       "      <td>137</td>\n",
       "      <td>1013700</td>\n",
       "      <td>1024887</td>\n",
       "      <td>1010270062</td>\n",
       "      <td>2103</td>\n",
       "    </tr>\n",
       "    <tr>\n",
       "      <th>2550</th>\n",
       "      <td>2551</td>\n",
       "      <td>POINT (-73.98359299971118 40.76552200014184)</td>\n",
       "      <td>MN</td>\n",
       "      <td>Free</td>\n",
       "      <td>LinkNYC - Citybridge</td>\n",
       "      <td>mn-05-122627</td>\n",
       "      <td>932 8 Avenue</td>\n",
       "      <td>40.765522</td>\n",
       "      <td>-73.983593</td>\n",
       "      <td>988794.875333</td>\n",
       "      <td>...</td>\n",
       "      <td>MN17</td>\n",
       "      <td>Midtown-Midtown South</td>\n",
       "      <td>3</td>\n",
       "      <td>10019</td>\n",
       "      <td>105</td>\n",
       "      <td>137</td>\n",
       "      <td>1013700</td>\n",
       "      <td>1024868</td>\n",
       "      <td>1010270002</td>\n",
       "      <td>2104</td>\n",
       "    </tr>\n",
       "    <tr>\n",
       "      <th>2551</th>\n",
       "      <td>2552</td>\n",
       "      <td>POINT (-73.98224699987307 40.76727099957289)</td>\n",
       "      <td>MN</td>\n",
       "      <td>Free</td>\n",
       "      <td>LinkNYC - Citybridge</td>\n",
       "      <td>mn-05-122628</td>\n",
       "      <td>1775 Broadway</td>\n",
       "      <td>40.767271</td>\n",
       "      <td>-73.982247</td>\n",
       "      <td>989167.599370</td>\n",
       "      <td>...</td>\n",
       "      <td>MN17</td>\n",
       "      <td>Midtown-Midtown South</td>\n",
       "      <td>3</td>\n",
       "      <td>10019</td>\n",
       "      <td>105</td>\n",
       "      <td>137</td>\n",
       "      <td>1013700</td>\n",
       "      <td>1024900</td>\n",
       "      <td>1010297501</td>\n",
       "      <td>2105</td>\n",
       "    </tr>\n",
       "    <tr>\n",
       "      <th>2552</th>\n",
       "      <td>2553</td>\n",
       "      <td>POINT (-73.97719468017824 40.76451316985691)</td>\n",
       "      <td>MN</td>\n",
       "      <td>Free</td>\n",
       "      <td>LinkNYC - Citybridge</td>\n",
       "      <td>mn-05-122629</td>\n",
       "      <td>101 West 57Th</td>\n",
       "      <td>40.764513</td>\n",
       "      <td>-73.977195</td>\n",
       "      <td>990567.358794</td>\n",
       "      <td>...</td>\n",
       "      <td>MN17</td>\n",
       "      <td>Midtown-Midtown South</td>\n",
       "      <td>4</td>\n",
       "      <td>10019</td>\n",
       "      <td>105</td>\n",
       "      <td>137</td>\n",
       "      <td>1013700</td>\n",
       "      <td>1023730</td>\n",
       "      <td>1010100029</td>\n",
       "      <td>2106</td>\n",
       "    </tr>\n",
       "    <tr>\n",
       "      <th>2553</th>\n",
       "      <td>2554</td>\n",
       "      <td>POINT (-73.97972100057736 40.76614800022246)</td>\n",
       "      <td>MN</td>\n",
       "      <td>Free</td>\n",
       "      <td>LinkNYC - Citybridge</td>\n",
       "      <td>mn-05-122631</td>\n",
       "      <td>916 7 Avenue</td>\n",
       "      <td>40.766148</td>\n",
       "      <td>-73.979721</td>\n",
       "      <td>989867.398690</td>\n",
       "      <td>...</td>\n",
       "      <td>MN17</td>\n",
       "      <td>Midtown-Midtown South</td>\n",
       "      <td>4</td>\n",
       "      <td>10019</td>\n",
       "      <td>105</td>\n",
       "      <td>137</td>\n",
       "      <td>1013700</td>\n",
       "      <td>1024904</td>\n",
       "      <td>1010290036</td>\n",
       "      <td>2107</td>\n",
       "    </tr>\n",
       "    <tr>\n",
       "      <th>2554</th>\n",
       "      <td>2555</td>\n",
       "      <td>POINT (-73.9793497005094 40.76664932039857)</td>\n",
       "      <td>MN</td>\n",
       "      <td>Free</td>\n",
       "      <td>LinkNYC - Citybridge</td>\n",
       "      <td>mn-05-122633</td>\n",
       "      <td>936 7TH AVENUE</td>\n",
       "      <td>40.766649</td>\n",
       "      <td>-73.979350</td>\n",
       "      <td>989970.207849</td>\n",
       "      <td>...</td>\n",
       "      <td>MN17</td>\n",
       "      <td>Midtown-Midtown South</td>\n",
       "      <td>4</td>\n",
       "      <td>10019</td>\n",
       "      <td>105</td>\n",
       "      <td>137</td>\n",
       "      <td>1013700</td>\n",
       "      <td>1024918</td>\n",
       "      <td>1010300029</td>\n",
       "      <td>2108</td>\n",
       "    </tr>\n",
       "    <tr>\n",
       "      <th>2555</th>\n",
       "      <td>2556</td>\n",
       "      <td>POINT (-73.98047754977866 40.764718099991)</td>\n",
       "      <td>MN</td>\n",
       "      <td>Free</td>\n",
       "      <td>LinkNYC - Citybridge</td>\n",
       "      <td>mn-05-122647</td>\n",
       "      <td>879 7 AVENUE</td>\n",
       "      <td>40.764718</td>\n",
       "      <td>-73.980478</td>\n",
       "      <td>989657.946132</td>\n",
       "      <td>...</td>\n",
       "      <td>MN17</td>\n",
       "      <td>Midtown-Midtown South</td>\n",
       "      <td>4</td>\n",
       "      <td>10019</td>\n",
       "      <td>105</td>\n",
       "      <td>137</td>\n",
       "      <td>1013700</td>\n",
       "      <td>1076178</td>\n",
       "      <td>1010087502</td>\n",
       "      <td>2109</td>\n",
       "    </tr>\n",
       "    <tr>\n",
       "      <th>2556</th>\n",
       "      <td>2557</td>\n",
       "      <td>POINT (-73.98073089026934 40.76487454038313)</td>\n",
       "      <td>MN</td>\n",
       "      <td>Free</td>\n",
       "      <td>LinkNYC - Citybridge</td>\n",
       "      <td>mn-05-122649</td>\n",
       "      <td>200 WEST 56 STREET</td>\n",
       "      <td>40.764875</td>\n",
       "      <td>-73.980731</td>\n",
       "      <td>989587.755463</td>\n",
       "      <td>...</td>\n",
       "      <td>MN17</td>\n",
       "      <td>Midtown-Midtown South</td>\n",
       "      <td>4</td>\n",
       "      <td>10019</td>\n",
       "      <td>105</td>\n",
       "      <td>137</td>\n",
       "      <td>1013700</td>\n",
       "      <td>1024878</td>\n",
       "      <td>1010277501</td>\n",
       "      <td>2110</td>\n",
       "    </tr>\n",
       "    <tr>\n",
       "      <th>2557</th>\n",
       "      <td>2558</td>\n",
       "      <td>POINT (-73.98299600048242 40.761640000243396)</td>\n",
       "      <td>MN</td>\n",
       "      <td>Free</td>\n",
       "      <td>LinkNYC - Citybridge</td>\n",
       "      <td>mn-05-122651</td>\n",
       "      <td>780 7 AVENUE</td>\n",
       "      <td>40.761640</td>\n",
       "      <td>-73.982996</td>\n",
       "      <td>988960.523837</td>\n",
       "      <td>...</td>\n",
       "      <td>MN17</td>\n",
       "      <td>Midtown-Midtown South</td>\n",
       "      <td>4</td>\n",
       "      <td>10019</td>\n",
       "      <td>105</td>\n",
       "      <td>131</td>\n",
       "      <td>1013100</td>\n",
       "      <td>1024811</td>\n",
       "      <td>1010220035</td>\n",
       "      <td>2111</td>\n",
       "    </tr>\n",
       "    <tr>\n",
       "      <th>2558</th>\n",
       "      <td>2559</td>\n",
       "      <td>POINT (-73.98255200010253 40.762365999757705)</td>\n",
       "      <td>MN</td>\n",
       "      <td>Free</td>\n",
       "      <td>LinkNYC - Citybridge</td>\n",
       "      <td>mn-05-122656</td>\n",
       "      <td>200 WEST 52 STREET</td>\n",
       "      <td>40.762366</td>\n",
       "      <td>-73.982552</td>\n",
       "      <td>989083.470008</td>\n",
       "      <td>...</td>\n",
       "      <td>MN17</td>\n",
       "      <td>Midtown-Midtown South</td>\n",
       "      <td>4</td>\n",
       "      <td>10019</td>\n",
       "      <td>105</td>\n",
       "      <td>131</td>\n",
       "      <td>1013100</td>\n",
       "      <td>1024818</td>\n",
       "      <td>1010230029</td>\n",
       "      <td>2112</td>\n",
       "    </tr>\n",
       "    <tr>\n",
       "      <th>2559</th>\n",
       "      <td>2560</td>\n",
       "      <td>POINT (-73.98171100004498 40.763036000322515)</td>\n",
       "      <td>MN</td>\n",
       "      <td>Free</td>\n",
       "      <td>LinkNYC - Citybridge</td>\n",
       "      <td>mn-05-122657</td>\n",
       "      <td>821 7 AVENUE</td>\n",
       "      <td>40.763036</td>\n",
       "      <td>-73.981711</td>\n",
       "      <td>989316.394067</td>\n",
       "      <td>...</td>\n",
       "      <td>MN17</td>\n",
       "      <td>Midtown-Midtown South</td>\n",
       "      <td>4</td>\n",
       "      <td>10019</td>\n",
       "      <td>105</td>\n",
       "      <td>131</td>\n",
       "      <td>1013100</td>\n",
       "      <td>1023166</td>\n",
       "      <td>1010067501</td>\n",
       "      <td>2113</td>\n",
       "    </tr>\n",
       "    <tr>\n",
       "      <th>2560</th>\n",
       "      <td>2561</td>\n",
       "      <td>POINT (-73.99601199967746 40.74848200026102)</td>\n",
       "      <td>MN</td>\n",
       "      <td>Free</td>\n",
       "      <td>LinkNYC - Citybridge</td>\n",
       "      <td>mn-05-122680</td>\n",
       "      <td>362 8 AVENUE</td>\n",
       "      <td>40.748482</td>\n",
       "      <td>-73.996012</td>\n",
       "      <td>985354.991783</td>\n",
       "      <td>...</td>\n",
       "      <td>MN17</td>\n",
       "      <td>Midtown-Midtown South</td>\n",
       "      <td>3</td>\n",
       "      <td>10001</td>\n",
       "      <td>105</td>\n",
       "      <td>95</td>\n",
       "      <td>1009500</td>\n",
       "      <td>1087714</td>\n",
       "      <td>1007787501</td>\n",
       "      <td>2114</td>\n",
       "    </tr>\n",
       "    <tr>\n",
       "      <th>2561</th>\n",
       "      <td>2562</td>\n",
       "      <td>POINT (-73.98867302965496 40.748772220053226)</td>\n",
       "      <td>MN</td>\n",
       "      <td>Free</td>\n",
       "      <td>LinkNYC - Citybridge</td>\n",
       "      <td>mn-05-122768</td>\n",
       "      <td>899 6 AVENUE</td>\n",
       "      <td>40.748772</td>\n",
       "      <td>-73.988673</td>\n",
       "      <td>987388.453917</td>\n",
       "      <td>...</td>\n",
       "      <td>MN17</td>\n",
       "      <td>Midtown-Midtown South</td>\n",
       "      <td>3</td>\n",
       "      <td>10001</td>\n",
       "      <td>105</td>\n",
       "      <td>101</td>\n",
       "      <td>1010100</td>\n",
       "      <td>1015190</td>\n",
       "      <td>1008080040</td>\n",
       "      <td>2115</td>\n",
       "    </tr>\n",
       "    <tr>\n",
       "      <th>2562</th>\n",
       "      <td>2563</td>\n",
       "      <td>POINT (-73.98778099990191 40.75008700008441)</td>\n",
       "      <td>MN</td>\n",
       "      <td>Free</td>\n",
       "      <td>LinkNYC - Citybridge</td>\n",
       "      <td>mn-05-122775</td>\n",
       "      <td>Herald Square</td>\n",
       "      <td>40.750087</td>\n",
       "      <td>-73.987781</td>\n",
       "      <td>987635.548964</td>\n",
       "      <td>...</td>\n",
       "      <td>MN17</td>\n",
       "      <td>Midtown-Midtown South</td>\n",
       "      <td>4</td>\n",
       "      <td>10001</td>\n",
       "      <td>105</td>\n",
       "      <td>109</td>\n",
       "      <td>1010900</td>\n",
       "      <td>0</td>\n",
       "      <td>1008100045</td>\n",
       "      <td>2116</td>\n",
       "    </tr>\n",
       "    <tr>\n",
       "      <th>2563</th>\n",
       "      <td>2564</td>\n",
       "      <td>POINT (-73.98389867982743 40.75495097962525)</td>\n",
       "      <td>MN</td>\n",
       "      <td>Free</td>\n",
       "      <td>LinkNYC - Citybridge</td>\n",
       "      <td>mn-05-122814</td>\n",
       "      <td>1100 Ave Of The Americas</td>\n",
       "      <td>40.754951</td>\n",
       "      <td>-73.983899</td>\n",
       "      <td>988710.907357</td>\n",
       "      <td>...</td>\n",
       "      <td>MN17</td>\n",
       "      <td>Midtown-Midtown South</td>\n",
       "      <td>4</td>\n",
       "      <td>10036</td>\n",
       "      <td>105</td>\n",
       "      <td>96</td>\n",
       "      <td>1009600</td>\n",
       "      <td>1034195</td>\n",
       "      <td>1012580001</td>\n",
       "      <td>2117</td>\n",
       "    </tr>\n",
       "    <tr>\n",
       "      <th>2564</th>\n",
       "      <td>2565</td>\n",
       "      <td>POINT (-73.9747322798014 40.76246754976373)</td>\n",
       "      <td>MN</td>\n",
       "      <td>Free</td>\n",
       "      <td>LinkNYC - Citybridge</td>\n",
       "      <td>mn-05-122853</td>\n",
       "      <td>1 WEST 56 STREET</td>\n",
       "      <td>40.762468</td>\n",
       "      <td>-73.974732</td>\n",
       "      <td>991249.689346</td>\n",
       "      <td>...</td>\n",
       "      <td>MN17</td>\n",
       "      <td>Midtown-Midtown South</td>\n",
       "      <td>4</td>\n",
       "      <td>10019</td>\n",
       "      <td>105</td>\n",
       "      <td>11201</td>\n",
       "      <td>1011201</td>\n",
       "      <td>1035051</td>\n",
       "      <td>1012720034</td>\n",
       "      <td>2118</td>\n",
       "    </tr>\n",
       "    <tr>\n",
       "      <th>2565</th>\n",
       "      <td>2566</td>\n",
       "      <td>POINT (-73.98236686967641 40.7754432795939)</td>\n",
       "      <td>MN</td>\n",
       "      <td>Free</td>\n",
       "      <td>LinkNYC - Citybridge</td>\n",
       "      <td>mn-07-121323</td>\n",
       "      <td>1995 BROADWAY</td>\n",
       "      <td>40.775443</td>\n",
       "      <td>-73.982367</td>\n",
       "      <td>989133.795905</td>\n",
       "      <td>...</td>\n",
       "      <td>MN14</td>\n",
       "      <td>Lincoln Square</td>\n",
       "      <td>6</td>\n",
       "      <td>10023</td>\n",
       "      <td>107</td>\n",
       "      <td>153</td>\n",
       "      <td>1015300</td>\n",
       "      <td>1070358</td>\n",
       "      <td>1011397502</td>\n",
       "      <td>2119</td>\n",
       "    </tr>\n",
       "  </tbody>\n",
       "</table>\n",
       "<p>2566 rows × 29 columns</p>\n",
       "</div>"
      ],
      "text/plain": [
       "      OBJECTID                                       the_geom BORO  \\\n",
       "0          998  POINT (-73.99403913047428 40.745968480330795)   MN   \n",
       "1          999   POINT (-73.98506899944617 40.74461400007714)   MN   \n",
       "2         1000  POINT (-73.98587841945721 40.757665579804524)   MN   \n",
       "3         1001   POINT (-73.98434199964098 40.75997099956788)   MN   \n",
       "4         1002  POINT (-73.98454079962323 40.760412940068946)   MN   \n",
       "5         1003   POINT (-73.98307690020869 40.76259329961947)   MN   \n",
       "6         1004  POINT (-73.98427739026059 40.760882769705795)   MN   \n",
       "7         1005   POINT (-73.9842828912446 40.760632174440964)   MN   \n",
       "8         1006  POINT (-73.97973824055805 40.752335260337226)   MN   \n",
       "9         1007  POINT (-73.97681672944039 40.750832729663784)   MN   \n",
       "10        1008   POINT (-73.98155980014904 40.74983207004283)   MN   \n",
       "11        1009   POINT (-73.99510999964427 40.74972800027015)   MN   \n",
       "12        1010   POINT (-73.97514297013922 40.75864931039507)   MN   \n",
       "13        1011     POINT (-73.984633629782 40.76071760039906)   MN   \n",
       "14        1012   POINT (-73.97235755960719 40.76246695042087)   MN   \n",
       "15        1013   POINT (-73.98485669974454 40.76026604038283)   MN   \n",
       "16        1014    POINT (-73.9840119596612 40.76023531989322)   MN   \n",
       "17        1015   POINT (-73.97274461932047 40.76151071412763)   MN   \n",
       "18        1016  POINT (-73.98353750025105 40.760526620346845)   MN   \n",
       "19          26    POINT (-73.96399099973121 40.6574519996605)   BK   \n",
       "20        1017   POINT (-73.99342732901681 40.73611175460224)   MN   \n",
       "21        1018  POINT (-73.98873983042944 40.734147649661395)   MN   \n",
       "22        1019  POINT (-73.98309027971149 40.761141970298425)   MN   \n",
       "23        1020   POINT (-73.97958520001451 40.75254481970809)   MN   \n",
       "24        1021   POINT (-73.99555300007853 40.74912200017118)   MN   \n",
       "25        1022  POINT (-73.98593571966606 40.746719760007004)   MN   \n",
       "26        1023   POINT (-73.99499300032076 40.74987999975493)   MN   \n",
       "27        1024    POINT (-73.9818807495442 40.76220989996661)   MN   \n",
       "28        1025  POINT (-73.97652976006606 40.756742180411685)   MN   \n",
       "29        1026  POINT (-73.99643400039932 40.747905000342676)   MN   \n",
       "...        ...                                            ...  ...   \n",
       "2536      2537   POINT (-73.94786799984885 40.82544599964419)   MN   \n",
       "2537      2538   POINT (-73.94465899972445 40.81889699977109)   MN   \n",
       "2538      2539   POINT (-73.98198780945361 40.76617478959079)   MN   \n",
       "2539      2540   POINT (-73.98230855991379 40.76412672039278)   MN   \n",
       "2540      2541   POINT (-73.98236264008422 40.76467195960161)   MN   \n",
       "2541      2542  POINT (-73.98262882960573 40.763978079685025)   MN   \n",
       "2542      2543  POINT (-73.98682800027184 40.761094000340414)   MN   \n",
       "2543      2544     POINT (-73.9873129997412 40.7602830000139)   MN   \n",
       "2544      2545   POINT (-73.98592299953167 40.76233100001673)   MN   \n",
       "2545      2546   POINT (-73.98471930982711 40.76399634998395)   MN   \n",
       "2546      2547   POINT (-73.98498723009939 40.76361577001061)   MN   \n",
       "2547      2548  POINT (-73.98422945056423 40.764646190388795)   MN   \n",
       "2548      2549   POINT (-73.98409943961784 40.76482318009721)   MN   \n",
       "2549      2550    POINT (-73.9833678703945 40.76582961962458)   MN   \n",
       "2550      2551   POINT (-73.98359299971118 40.76552200014184)   MN   \n",
       "2551      2552   POINT (-73.98224699987307 40.76727099957289)   MN   \n",
       "2552      2553   POINT (-73.97719468017824 40.76451316985691)   MN   \n",
       "2553      2554   POINT (-73.97972100057736 40.76614800022246)   MN   \n",
       "2554      2555    POINT (-73.9793497005094 40.76664932039857)   MN   \n",
       "2555      2556     POINT (-73.98047754977866 40.764718099991)   MN   \n",
       "2556      2557   POINT (-73.98073089026934 40.76487454038313)   MN   \n",
       "2557      2558  POINT (-73.98299600048242 40.761640000243396)   MN   \n",
       "2558      2559  POINT (-73.98255200010253 40.762365999757705)   MN   \n",
       "2559      2560  POINT (-73.98171100004498 40.763036000322515)   MN   \n",
       "2560      2561   POINT (-73.99601199967746 40.74848200026102)   MN   \n",
       "2561      2562  POINT (-73.98867302965496 40.748772220053226)   MN   \n",
       "2562      2563   POINT (-73.98778099990191 40.75008700008441)   MN   \n",
       "2563      2564   POINT (-73.98389867982743 40.75495097962525)   MN   \n",
       "2564      2565    POINT (-73.9747322798014 40.76246754976373)   MN   \n",
       "2565      2566    POINT (-73.98236686967641 40.7754432795939)   MN   \n",
       "\n",
       "              TYPE              PROVIDER           NAME  \\\n",
       "0             Free  LinkNYC - Citybridge   mn-05-123662   \n",
       "1             Free  LinkNYC - Citybridge   mn-05-123789   \n",
       "2             Free  LinkNYC - Citybridge   mn-05-133354   \n",
       "3             Free  LinkNYC - Citybridge   mn-05-133359   \n",
       "4             Free  LinkNYC - Citybridge   mn-05-133361   \n",
       "5             Free  LinkNYC - Citybridge   mn-05-133505   \n",
       "6             Free  LinkNYC - Citybridge   mn-05-133508   \n",
       "7             Free  LinkNYC - Citybridge   mn-05-133511   \n",
       "8             Free  LinkNYC - Citybridge   mn-05-133538   \n",
       "9             Free  LinkNYC - Citybridge   mn-05-133550   \n",
       "10            Free  LinkNYC - Citybridge   mn-05-133558   \n",
       "11            Free  LinkNYC - Citybridge   mn-05-133689   \n",
       "12            Free  LinkNYC - Citybridge   mn-05-134122   \n",
       "13            Free  LinkNYC - Citybridge   mn-05-134155   \n",
       "14            Free  LinkNYC - Citybridge   mn-05-134168   \n",
       "15            Free  LinkNYC - Citybridge   mn-05-134185   \n",
       "16            Free  LinkNYC - Citybridge   mn-05-134211   \n",
       "17            Free  LinkNYC - Citybridge   mn-05-134222   \n",
       "18            Free  LinkNYC - Citybridge   mn-05-134283   \n",
       "19    Limited Free             ALTICEUSA  Prospect Park   \n",
       "20            Free  LinkNYC - Citybridge   mn-05-134468   \n",
       "21            Free  LinkNYC - Citybridge   mn-05-134620   \n",
       "22            Free  LinkNYC - Citybridge   mn-05-134736   \n",
       "23            Free  LinkNYC - Citybridge   mn-05-135892   \n",
       "24            Free  LinkNYC - Citybridge   mn-05-136213   \n",
       "25            Free  LinkNYC - Citybridge   mn-05-136688   \n",
       "26            Free  LinkNYC - Citybridge   mn-05-136910   \n",
       "27            Free  LinkNYC - Citybridge   mn-05-137157   \n",
       "28            Free  LinkNYC - Citybridge   mn-05-137210   \n",
       "29            Free  LinkNYC - Citybridge   mn-05-137326   \n",
       "...            ...                   ...            ...   \n",
       "2536          Free  LinkNYC - Citybridge   mn-09-100210   \n",
       "2537          Free  LinkNYC - Citybridge   mn-10-119890   \n",
       "2538          Free  LinkNYC - Citybridge   mn-05-122522   \n",
       "2539          Free  LinkNYC - Citybridge   mn-05-122529   \n",
       "2540          Free  LinkNYC - Citybridge   mn-05-122532   \n",
       "2541          Free  LinkNYC - Citybridge   mn-05-122541   \n",
       "2542          Free  LinkNYC - Citybridge   mn-05-122586   \n",
       "2543          Free  LinkNYC - Citybridge   mn-05-122591   \n",
       "2544          Free  LinkNYC - Citybridge   mn-05-122593   \n",
       "2545          Free  LinkNYC - Citybridge   mn-05-122608   \n",
       "2546          Free  LinkNYC - Citybridge   mn-05-122609   \n",
       "2547          Free  LinkNYC - Citybridge   mn-05-122615   \n",
       "2548          Free  LinkNYC - Citybridge   mn-05-122619   \n",
       "2549          Free  LinkNYC - Citybridge   mn-05-122622   \n",
       "2550          Free  LinkNYC - Citybridge   mn-05-122627   \n",
       "2551          Free  LinkNYC - Citybridge   mn-05-122628   \n",
       "2552          Free  LinkNYC - Citybridge   mn-05-122629   \n",
       "2553          Free  LinkNYC - Citybridge   mn-05-122631   \n",
       "2554          Free  LinkNYC - Citybridge   mn-05-122633   \n",
       "2555          Free  LinkNYC - Citybridge   mn-05-122647   \n",
       "2556          Free  LinkNYC - Citybridge   mn-05-122649   \n",
       "2557          Free  LinkNYC - Citybridge   mn-05-122651   \n",
       "2558          Free  LinkNYC - Citybridge   mn-05-122656   \n",
       "2559          Free  LinkNYC - Citybridge   mn-05-122657   \n",
       "2560          Free  LinkNYC - Citybridge   mn-05-122680   \n",
       "2561          Free  LinkNYC - Citybridge   mn-05-122768   \n",
       "2562          Free  LinkNYC - Citybridge   mn-05-122775   \n",
       "2563          Free  LinkNYC - Citybridge   mn-05-122814   \n",
       "2564          Free  LinkNYC - Citybridge   mn-05-122853   \n",
       "2565          Free  LinkNYC - Citybridge   mn-07-121323   \n",
       "\n",
       "                          LOCATION        LAT        LON              X  \\\n",
       "0               179 WEST 26 STREET  40.745968 -73.994039  985901.695307   \n",
       "1                25 EAST 29 STREET  40.744614 -73.985069  988387.309473   \n",
       "2                    1515 BROADWAY  40.757666 -73.985878  988162.256449   \n",
       "3               201 WEST 48 STREET  40.759971 -73.984342  988587.757617   \n",
       "4                    1600 Broadway  40.760413 -73.984541  988532.655360   \n",
       "5                    1668 Broadway  40.762593 -73.983077  988938.045460   \n",
       "6                    1626 Broadway  40.760883 -73.984277  988605.596992   \n",
       "7                    1606 Broadway  40.760632 -73.984283  988604.089229   \n",
       "8                  300 Madison Ave  40.752335 -73.979738  989863.787144   \n",
       "9                370 Lexington Ave  40.750833 -73.976817  990673.374782   \n",
       "10                 232 Madison Ave  40.749832 -73.981560  989359.291976   \n",
       "11                    402 8 Avenue  40.749728 -73.995110  985604.891865   \n",
       "12                 488 Madison Ave  40.758649 -73.975143  991136.314338   \n",
       "13                   1611 Broadway  40.760718 -73.984634  988506.919235   \n",
       "14                 598 Madison Ave  40.762467 -73.972358  991907.536730   \n",
       "15                   1605 Broadway  40.760266 -73.984857  988445.150976   \n",
       "16                    736 7 AVENUE  40.760235 -73.984012  988679.171482   \n",
       "17                 555 Madison Ave  40.761511 -73.972745  991800.421556   \n",
       "18                    745 7 AVENUE  40.760527 -73.983537  988810.591330   \n",
       "19               Skate Rental Area  40.657452 -73.963991  994240.977381   \n",
       "20                      69 5Th Ave  40.736112 -73.993427  986071.488377   \n",
       "21                117 East 14Th St  40.734148 -73.988740  987370.630021   \n",
       "22                    777 7 AVENUE  40.761142 -73.983090  988934.440999   \n",
       "23                 300 Madison Ave  40.752545 -73.979585  989906.171094   \n",
       "24                    382 8 Avenue  40.749122 -73.995553  985482.159291   \n",
       "25                    302 5 AVENUE  40.746720 -73.985936  988147.022285   \n",
       "26                    408 8 Avenue  40.749880 -73.994993  985637.306358   \n",
       "27              159 WEST 52 STREET  40.762210 -73.981881  989269.432408   \n",
       "28                 410 Madison Ave  40.756742 -73.976530  990752.308524   \n",
       "29                243 West 27Th St  40.747905 -73.996434  985238.072926   \n",
       "...                            ...        ...        ...            ...   \n",
       "2536           501 West 145 Street  40.825446 -73.947868  998678.003242   \n",
       "2537  2604 FREDERICK DOUGLASS BLVD  40.818897 -73.944659  999567.630366   \n",
       "2538                 250 West 57St  40.766175 -73.981988  989239.477391   \n",
       "2539                 1710 Broadway  40.764127 -73.982309  989150.778549   \n",
       "2540                 1725 Broadway  40.764672 -73.982363  989135.757628   \n",
       "2541                 1701 Broadway  40.763978 -73.982629  989062.069979   \n",
       "2542                  790 8 Avenue  40.761094 -73.986828  987898.996046   \n",
       "2543            270 WEST 47 STREET  40.760283 -73.987313  987764.680879   \n",
       "2544                  830 8 Avenue  40.762331 -73.985923  988149.632807   \n",
       "2545                  888 8 AVENUE  40.763996 -73.984719  988482.975070   \n",
       "2546                870 8TH AVENUE  40.763616 -73.984987  988408.781068   \n",
       "2547                  900 8 Avenue  40.764646 -73.984229  988618.630843   \n",
       "2548                  910 8 Avenue  40.764823 -73.984099  988654.633461   \n",
       "2549                  944 8 Avenue  40.765830 -73.983368  988857.216933   \n",
       "2550                  932 8 Avenue  40.765522 -73.983593  988794.875333   \n",
       "2551                 1775 Broadway  40.767271 -73.982247  989167.599370   \n",
       "2552                 101 West 57Th  40.764513 -73.977195  990567.358794   \n",
       "2553                  916 7 Avenue  40.766148 -73.979721  989867.398690   \n",
       "2554                936 7TH AVENUE  40.766649 -73.979350  989970.207849   \n",
       "2555                  879 7 AVENUE  40.764718 -73.980478  989657.946132   \n",
       "2556            200 WEST 56 STREET  40.764875 -73.980731  989587.755463   \n",
       "2557                  780 7 AVENUE  40.761640 -73.982996  988960.523837   \n",
       "2558            200 WEST 52 STREET  40.762366 -73.982552  989083.470008   \n",
       "2559                  821 7 AVENUE  40.763036 -73.981711  989316.394067   \n",
       "2560                  362 8 AVENUE  40.748482 -73.996012  985354.991783   \n",
       "2561                  899 6 AVENUE  40.748772 -73.988673  987388.453917   \n",
       "2562                 Herald Square  40.750087 -73.987781  987635.548964   \n",
       "2563      1100 Ave Of The Americas  40.754951 -73.983899  988710.907357   \n",
       "2564              1 WEST 56 STREET  40.762468 -73.974732  991249.689346   \n",
       "2565                 1995 BROADWAY  40.775443 -73.982367  989133.795905   \n",
       "\n",
       "       ...     NTACODE                                     NTANAME COUNDIST  \\\n",
       "0      ...        MN17                       Midtown-Midtown South        3   \n",
       "1      ...        MN17                       Midtown-Midtown South        2   \n",
       "2      ...        MN17                       Midtown-Midtown South        3   \n",
       "3      ...        MN17                       Midtown-Midtown South        4   \n",
       "4      ...        MN17                       Midtown-Midtown South        4   \n",
       "5      ...        MN17                       Midtown-Midtown South        4   \n",
       "6      ...        MN17                       Midtown-Midtown South        4   \n",
       "7      ...        MN17                       Midtown-Midtown South        4   \n",
       "8      ...        MN20                        Murray Hill-Kips Bay        4   \n",
       "9      ...        MN20                        Murray Hill-Kips Bay        4   \n",
       "10     ...        MN20                        Murray Hill-Kips Bay        4   \n",
       "11     ...        MN17                       Midtown-Midtown South        3   \n",
       "12     ...        MN17                       Midtown-Midtown South        4   \n",
       "13     ...        MN17                       Midtown-Midtown South        3   \n",
       "14     ...        MN17                       Midtown-Midtown South        4   \n",
       "15     ...        MN17                       Midtown-Midtown South        3   \n",
       "16     ...        MN17                       Midtown-Midtown South        4   \n",
       "17     ...        MN17                       Midtown-Midtown South        4   \n",
       "18     ...        MN17                       Midtown-Midtown South        4   \n",
       "19     ...        BK99                  park-cemetery-etc-Brooklyn       39   \n",
       "20     ...        MN13  Hudson Yards-Chelsea-Flatiron-Union Square        2   \n",
       "21     ...        MN21                                    Gramercy        2   \n",
       "22     ...        MN17                       Midtown-Midtown South        4   \n",
       "23     ...        MN20                        Murray Hill-Kips Bay        4   \n",
       "24     ...        MN17                       Midtown-Midtown South        3   \n",
       "25     ...        MN17                       Midtown-Midtown South        4   \n",
       "26     ...        MN17                       Midtown-Midtown South        3   \n",
       "27     ...        MN17                       Midtown-Midtown South        4   \n",
       "28     ...        MN17                       Midtown-Midtown South        4   \n",
       "29     ...        MN17                       Midtown-Midtown South        3   \n",
       "...    ...         ...                                         ...      ...   \n",
       "2536   ...        MN04                            Hamilton Heights        7   \n",
       "2537   ...        MN03           Central Harlem North-Polo Grounds        9   \n",
       "2538   ...        MN17                       Midtown-Midtown South        3   \n",
       "2539   ...        MN17                       Midtown-Midtown South        4   \n",
       "2540   ...        MN17                       Midtown-Midtown South        3   \n",
       "2541   ...        MN17                       Midtown-Midtown South        3   \n",
       "2542   ...        MN17                       Midtown-Midtown South        3   \n",
       "2543   ...        MN17                       Midtown-Midtown South        3   \n",
       "2544   ...        MN17                       Midtown-Midtown South        3   \n",
       "2545   ...        MN17                       Midtown-Midtown South        3   \n",
       "2546   ...        MN17                       Midtown-Midtown South        3   \n",
       "2547   ...        MN17                       Midtown-Midtown South        3   \n",
       "2548   ...        MN17                       Midtown-Midtown South        3   \n",
       "2549   ...        MN17                       Midtown-Midtown South        3   \n",
       "2550   ...        MN17                       Midtown-Midtown South        3   \n",
       "2551   ...        MN17                       Midtown-Midtown South        3   \n",
       "2552   ...        MN17                       Midtown-Midtown South        4   \n",
       "2553   ...        MN17                       Midtown-Midtown South        4   \n",
       "2554   ...        MN17                       Midtown-Midtown South        4   \n",
       "2555   ...        MN17                       Midtown-Midtown South        4   \n",
       "2556   ...        MN17                       Midtown-Midtown South        4   \n",
       "2557   ...        MN17                       Midtown-Midtown South        4   \n",
       "2558   ...        MN17                       Midtown-Midtown South        4   \n",
       "2559   ...        MN17                       Midtown-Midtown South        4   \n",
       "2560   ...        MN17                       Midtown-Midtown South        3   \n",
       "2561   ...        MN17                       Midtown-Midtown South        3   \n",
       "2562   ...        MN17                       Midtown-Midtown South        4   \n",
       "2563   ...        MN17                       Midtown-Midtown South        4   \n",
       "2564   ...        MN17                       Midtown-Midtown South        4   \n",
       "2565   ...        MN14                              Lincoln Square        6   \n",
       "\n",
       "     POSTCODE BOROCD CT2010 BOROCT2010      BIN         BBL DOITT_ID  \n",
       "0       10001    105     95    1009500        0           0     1425  \n",
       "1       10016    105     74    1007400  1016929  1008590024     1426  \n",
       "2       10036    105    119    1011900  1024714  1010160036     1427  \n",
       "3       10036    105    125    1012500  1076195  1010200046     1428  \n",
       "4       10019    105    125    1012500  1087187  1010207502     1429  \n",
       "5       10019    105    131    1013100  1024818  1010230029     1430  \n",
       "6       10019    105    125    1012500  1024795  1010210026     1431  \n",
       "7       10019    105    125    1012500  1024779  1010200038     1432  \n",
       "8       10017    105     82    1008200  1085972  1012760058     1433  \n",
       "9       10017    105     80    1008000  1036150  1012950058     1434  \n",
       "10      10016    105     82    1008200  1017194  1008670015     1435  \n",
       "11      10001    105    101    1010100  1014332  1007800001     1436  \n",
       "12      10022    105    102    1010200  1035470  1012870014     1437  \n",
       "13      10019    105    125    1012500  1076195  1010200046     1438  \n",
       "14      10022    105  11202    1011202  1036060  1012930016     1439  \n",
       "15      10019    105    125    1012500  1076195  1010200046     1440  \n",
       "16      10019    105    125    1012500  1024777  1010200035     1441  \n",
       "17      10022    105    102    1010200  1035775  1012910051     1442  \n",
       "18      10019    105    125    1012500  1084667  1010020001     1443  \n",
       "19      11215    355    177    3017700  3391508  3011170001      894  \n",
       "20      10003    105     52    1005200  1016061  1008427501     1444  \n",
       "21      10003    105     50    1005000  1083247  1008707501     1445  \n",
       "22      10019    105    131    1013100  1022710  1010037501     1446  \n",
       "23      10017    105     82    1008200  1085972  1012760058     1447  \n",
       "24      10001    105     95    1009500  1014277  1007790001     1448  \n",
       "25      10001    105     76    1007600  1015816  1008330038     1449  \n",
       "26      10001    105    101    1010100  1014351  1007807501     1450  \n",
       "27      10019    105    131    1013100  1023159  1010050001     1451  \n",
       "28      10017    105     94    1009400  1035437  1012840014     1452  \n",
       "29      10001    105     95    1009500  1014251  1007770018     1453  \n",
       "...       ...    ...    ...        ...      ...         ...      ...  \n",
       "2536    10031    109    229    1022900  1061939  1020770029     2319  \n",
       "2537    10030    110    230    1023000  1060322  1020240064     2385  \n",
       "2538    10107    105    137    1013700  1024899  1010280056     2092  \n",
       "2539    10019    105    137    1013700  1024850  1010260021     2093  \n",
       "2540    10019    105    137    1013700  1078860  1010267502     2094  \n",
       "2541    10019    105    131    1013100  1024839  1010250044     2095  \n",
       "2542    10019    105    125    1012500  1024771  1010207501     2096  \n",
       "2543    10036    105    125    1012500  1024748  1010180061     2097  \n",
       "2544    10019    105    131    1013100  1024808  1010220001     2098  \n",
       "2545    10019    105    131    1013100  1024825  1010240001     2099  \n",
       "2546    10019    105    131    1013100  1024825  1010240001     2100  \n",
       "2547    10019    105    131    1013100  1024832  1010257502     2101  \n",
       "2548    10019    105    137    1013700        0  1010260055     2102  \n",
       "2549    10019    105    137    1013700  1024887  1010270062     2103  \n",
       "2550    10019    105    137    1013700  1024868  1010270002     2104  \n",
       "2551    10019    105    137    1013700  1024900  1010297501     2105  \n",
       "2552    10019    105    137    1013700  1023730  1010100029     2106  \n",
       "2553    10019    105    137    1013700  1024904  1010290036     2107  \n",
       "2554    10019    105    137    1013700  1024918  1010300029     2108  \n",
       "2555    10019    105    137    1013700  1076178  1010087502     2109  \n",
       "2556    10019    105    137    1013700  1024878  1010277501     2110  \n",
       "2557    10019    105    131    1013100  1024811  1010220035     2111  \n",
       "2558    10019    105    131    1013100  1024818  1010230029     2112  \n",
       "2559    10019    105    131    1013100  1023166  1010067501     2113  \n",
       "2560    10001    105     95    1009500  1087714  1007787501     2114  \n",
       "2561    10001    105    101    1010100  1015190  1008080040     2115  \n",
       "2562    10001    105    109    1010900        0  1008100045     2116  \n",
       "2563    10036    105     96    1009600  1034195  1012580001     2117  \n",
       "2564    10019    105  11201    1011201  1035051  1012720034     2118  \n",
       "2565    10023    107    153    1015300  1070358  1011397502     2119  \n",
       "\n",
       "[2566 rows x 29 columns]"
      ]
     },
     "execution_count": 121,
     "metadata": {},
     "output_type": "execute_result"
    }
   ],
   "source": [
    "df"
   ]
  },
  {
   "cell_type": "code",
   "execution_count": 122,
   "metadata": {},
   "outputs": [],
   "source": [
    "nyc_beaches = 'https://data.cityofnewyork.us/api/views/4wtg-vt8c/rows.csv'"
   ]
  },
  {
   "cell_type": "code",
   "execution_count": 123,
   "metadata": {},
   "outputs": [
    {
     "data": {
      "text/plain": [
       "('rows.csv', <http.client.HTTPMessage at 0x10472c748>)"
      ]
     },
     "execution_count": 123,
     "metadata": {},
     "output_type": "execute_result"
    }
   ],
   "source": [
    "urlretrieve(nyc_beaches,'rows.csv')"
   ]
  },
  {
   "cell_type": "code",
   "execution_count": 124,
   "metadata": {},
   "outputs": [],
   "source": [
    "df = pandas.read_csv('rows.csv')"
   ]
  },
  {
   "cell_type": "code",
   "execution_count": 125,
   "metadata": {},
   "outputs": [
    {
     "data": {
      "text/html": [
       "<div>\n",
       "<style>\n",
       "    .dataframe thead tr:only-child th {\n",
       "        text-align: right;\n",
       "    }\n",
       "\n",
       "    .dataframe thead th {\n",
       "        text-align: left;\n",
       "    }\n",
       "\n",
       "    .dataframe tbody tr th {\n",
       "        vertical-align: top;\n",
       "    }\n",
       "</style>\n",
       "<table border=\"1\" class=\"dataframe\">\n",
       "  <thead>\n",
       "    <tr style=\"text-align: right;\">\n",
       "      <th></th>\n",
       "      <th>the_geom</th>\n",
       "      <th>SYSTEM</th>\n",
       "      <th>GISPROPNUM</th>\n",
       "      <th>BOROUGH</th>\n",
       "      <th>NAME</th>\n",
       "      <th>SHAPE_STAr</th>\n",
       "      <th>SHAPE_STLe</th>\n",
       "    </tr>\n",
       "  </thead>\n",
       "  <tbody>\n",
       "    <tr>\n",
       "      <th>0</th>\n",
       "      <td>MULTIPOLYGON (((-73.80381212219379 40.58522027...</td>\n",
       "      <td>Q163-ZN05A-BCH0110</td>\n",
       "      <td>Q163</td>\n",
       "      <td>Q</td>\n",
       "      <td>Rockaway Beach</td>\n",
       "      <td>103079.115402</td>\n",
       "      <td>1697.467039</td>\n",
       "    </tr>\n",
       "    <tr>\n",
       "      <th>1</th>\n",
       "      <td>MULTIPOLYGON (((-73.80219540329239 40.58614382...</td>\n",
       "      <td>Q163-ZN05A-BCH0109</td>\n",
       "      <td>Q163</td>\n",
       "      <td>Q</td>\n",
       "      <td>Rockaway Beach</td>\n",
       "      <td>85226.560532</td>\n",
       "      <td>1188.193865</td>\n",
       "    </tr>\n",
       "    <tr>\n",
       "      <th>2</th>\n",
       "      <td>MULTIPOLYGON (((-73.79842286341552 40.58671308...</td>\n",
       "      <td>Q162-ZN04C-BCH0083</td>\n",
       "      <td>Q162</td>\n",
       "      <td>Q</td>\n",
       "      <td>Rockaway Beach</td>\n",
       "      <td>70284.274368</td>\n",
       "      <td>1068.351311</td>\n",
       "    </tr>\n",
       "    <tr>\n",
       "      <th>3</th>\n",
       "      <td>MULTIPOLYGON (((-73.79639354504901 40.58707015...</td>\n",
       "      <td>Q162-ZN04C-BCH0084</td>\n",
       "      <td>Q162</td>\n",
       "      <td>Q</td>\n",
       "      <td>Rockaway Beach</td>\n",
       "      <td>74989.980988</td>\n",
       "      <td>1124.325310</td>\n",
       "    </tr>\n",
       "    <tr>\n",
       "      <th>4</th>\n",
       "      <td>MULTIPOLYGON (((-73.79639354504901 40.58707015...</td>\n",
       "      <td>Q162-ZN04C-BCH0085</td>\n",
       "      <td>Q162</td>\n",
       "      <td>Q</td>\n",
       "      <td>Rockaway Beach</td>\n",
       "      <td>64749.425842</td>\n",
       "      <td>1417.569578</td>\n",
       "    </tr>\n",
       "  </tbody>\n",
       "</table>\n",
       "</div>"
      ],
      "text/plain": [
       "                                            the_geom              SYSTEM  \\\n",
       "0  MULTIPOLYGON (((-73.80381212219379 40.58522027...  Q163-ZN05A-BCH0110   \n",
       "1  MULTIPOLYGON (((-73.80219540329239 40.58614382...  Q163-ZN05A-BCH0109   \n",
       "2  MULTIPOLYGON (((-73.79842286341552 40.58671308...  Q162-ZN04C-BCH0083   \n",
       "3  MULTIPOLYGON (((-73.79639354504901 40.58707015...  Q162-ZN04C-BCH0084   \n",
       "4  MULTIPOLYGON (((-73.79639354504901 40.58707015...  Q162-ZN04C-BCH0085   \n",
       "\n",
       "  GISPROPNUM BOROUGH            NAME     SHAPE_STAr   SHAPE_STLe  \n",
       "0       Q163       Q  Rockaway Beach  103079.115402  1697.467039  \n",
       "1       Q163       Q  Rockaway Beach   85226.560532  1188.193865  \n",
       "2       Q162       Q  Rockaway Beach   70284.274368  1068.351311  \n",
       "3       Q162       Q  Rockaway Beach   74989.980988  1124.325310  \n",
       "4       Q162       Q  Rockaway Beach   64749.425842  1417.569578  "
      ]
     },
     "execution_count": 125,
     "metadata": {},
     "output_type": "execute_result"
    }
   ],
   "source": [
    "df.head()"
   ]
  }
 ],
 "metadata": {
  "kernelspec": {
   "display_name": "Python 3",
   "language": "python",
   "name": "python3"
  },
  "language_info": {
   "codemirror_mode": {
    "name": "ipython",
    "version": 3
   },
   "file_extension": ".py",
   "mimetype": "text/x-python",
   "name": "python",
   "nbconvert_exporter": "python",
   "pygments_lexer": "ipython3",
   "version": "3.6.2"
  }
 },
 "nbformat": 4,
 "nbformat_minor": 2
}
