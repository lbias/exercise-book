{
 "cells": [
  {
   "cell_type": "markdown",
   "metadata": {},
   "source": [
    "### scraping a Google search, export to csv"
   ]
  },
  {
   "cell_type": "code",
   "execution_count": 3,
   "metadata": {},
   "outputs": [],
   "source": [
    "# the libraries & browser\n",
    "from selenium import webdriver\n",
    "from splinter import Browser\n",
    "import pandas as pd\n",
    "\n",
    "# open a safari browser\n",
    "browser = webdriver.Safari()"
   ]
  },
  {
   "cell_type": "code",
   "execution_count": 6,
   "metadata": {},
   "outputs": [],
   "source": [
    "browser.set_window_size(640, 480)"
   ]
  },
  {
   "cell_type": "code",
   "execution_count": 8,
   "metadata": {},
   "outputs": [],
   "source": [
    "# goes to the url\n",
    "browser.get('https://www.google.com')"
   ]
  },
  {
   "cell_type": "code",
   "execution_count": 9,
   "metadata": {},
   "outputs": [],
   "source": [
    "search_bar_xpath = '//*[@id=\"lst-ib\"]'"
   ]
  },
  {
   "cell_type": "code",
   "execution_count": 12,
   "metadata": {},
   "outputs": [],
   "source": [
    " # find_elements_by_xpath returns a list, so index 0\n",
    "search_bar = browser.find_elements_by_xpath(search_bar_xpath)[0] "
   ]
  },
  {
   "cell_type": "code",
   "execution_count": 15,
   "metadata": {},
   "outputs": [],
   "source": [
    "search_bar.send_keys(\"CodingStartups.com\")"
   ]
  },
  {
   "cell_type": "code",
   "execution_count": 16,
   "metadata": {},
   "outputs": [],
   "source": [
    "search_button_xpath = '//*[@id=\"tsf\"]/div[2]/div[3]/center/input[1]' \n",
    "search_button = browser.find_elements_by_xpath(search_button_xpath)[0] \n",
    "# simulate clicking\n",
    "search_button.click()"
   ]
  },
  {
   "cell_type": "code",
   "execution_count": 19,
   "metadata": {},
   "outputs": [],
   "source": [
    "search_results_xpath = '//h3[@class=\"r\"]/a'\n",
    "# returns list of link elements\n",
    "search_results = browser.find_elements_by_xpath(search_results_xpath)"
   ]
  },
  {
   "cell_type": "code",
   "execution_count": 22,
   "metadata": {},
   "outputs": [],
   "source": [
    "# iterate through list of link elements\n",
    "scraped_data = []\n",
    "for search_result in search_results:\n",
    "     title = search_result.text.encode('utf8')\n",
    "     link = search_result.get_property('href')\n",
    "     scraped_data.append((title, link))  # put in tuples"
   ]
  },
  {
   "cell_type": "code",
   "execution_count": 23,
   "metadata": {},
   "outputs": [],
   "source": [
    "# put all the data into a pandas dataframe\n",
    "df = pd.DataFrame(data=scraped_data, columns=[\"Title\", \"Link\"]) \n",
    "# export to csv\n",
    "df.to_csv(\"links.csv\")"
   ]
  },
  {
   "cell_type": "code",
   "execution_count": null,
   "metadata": {},
   "outputs": [],
   "source": []
  }
 ],
 "metadata": {
  "kernelspec": {
   "display_name": "Python 3",
   "language": "python",
   "name": "python3"
  },
  "language_info": {
   "codemirror_mode": {
    "name": "ipython",
    "version": 3
   },
   "file_extension": ".py",
   "mimetype": "text/x-python",
   "name": "python",
   "nbconvert_exporter": "python",
   "pygments_lexer": "ipython3",
   "version": "3.6.3"
  }
 },
 "nbformat": 4,
 "nbformat_minor": 2
}
