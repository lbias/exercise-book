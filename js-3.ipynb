{
 "cells": [
  {
   "cell_type": "code",
   "execution_count": 3,
   "metadata": {},
   "outputs": [
    {
     "data": {
      "text/plain": [
       "{ legs: 3, name: 'Harmony', color: 'Tortoiseshell' }"
      ]
     },
     "execution_count": 3,
     "metadata": {},
     "output_type": "execute_result"
    }
   ],
   "source": [
    "var cat = {\n",
    "  \"legs\": 3,\n",
    "  \"name\": \"Harmony\",\n",
    "  \"color\": \"Tortoiseshell\"\n",
    "};\n",
    "cat;"
   ]
  },
  {
   "cell_type": "code",
   "execution_count": 5,
   "metadata": {},
   "outputs": [
    {
     "data": {
      "text/plain": [
       "{ legs: 3, name: 'Harmony', color: 'Tortoiseshell' }"
      ]
     },
     "execution_count": 5,
     "metadata": {},
     "output_type": "execute_result"
    }
   ],
   "source": [
    "// JavaScript knows keys will always be strings\n",
    "var cat = {\n",
    "  legs: 3,\n",
    "  name: \"Harmony\",\n",
    "  color: \"Tortoiseshell\"\n",
    "};\n",
    "cat;"
   ]
  },
  {
   "cell_type": "code",
   "execution_count": 6,
   "metadata": {},
   "outputs": [
    {
     "data": {
      "text/plain": [
       "'Harmony'"
      ]
     },
     "execution_count": 6,
     "metadata": {},
     "output_type": "execute_result"
    }
   ],
   "source": [
    "cat[\"name\"];"
   ]
  },
  {
   "cell_type": "code",
   "execution_count": 7,
   "metadata": {},
   "outputs": [
    {
     "data": {
      "text/plain": [
       "'Harmony'"
      ]
     },
     "execution_count": 7,
     "metadata": {},
     "output_type": "execute_result"
    }
   ],
   "source": [
    "cat.name;"
   ]
  },
  {
   "cell_type": "code",
   "execution_count": 8,
   "metadata": {},
   "outputs": [
    {
     "data": {
      "text/plain": [
       "[ 'name', 'age', 'color', 'bark' ]"
      ]
     },
     "execution_count": 8,
     "metadata": {},
     "output_type": "execute_result"
    }
   ],
   "source": [
    "//object.keys()\n",
    "var dog = { name: \"Pancake\", age: 6, color: \"white\", \n",
    "           bark: \"Yip yap yip!\" };\n",
    "var cat = { name: \"Harmony\", age: 8, color: \"tortoiseshell\" };\n",
    "Object.keys(dog);"
   ]
  },
  {
   "cell_type": "code",
   "execution_count": 9,
   "metadata": {},
   "outputs": [
    {
     "data": {
      "text/plain": [
       "[ 'name', 'age', 'color' ]"
      ]
     },
     "execution_count": 9,
     "metadata": {},
     "output_type": "execute_result"
    }
   ],
   "source": [
    "Object.keys(cat);"
   ]
  },
  {
   "cell_type": "code",
   "execution_count": 10,
   "metadata": {},
   "outputs": [
    {
     "data": {
      "text/plain": [
       "{ legs: 3, name: 'Harmony', color: 'Tortoiseshell' }"
      ]
     },
     "execution_count": 10,
     "metadata": {},
     "output_type": "execute_result"
    }
   ],
   "source": [
    "var cat = {};\n",
    "cat[\"legs\"] = 3;\n",
    "cat[\"name\"] = \"Harmony\";\n",
    "cat[\"color\"] = \"Tortoiseshell\";\n",
    "cat;"
   ]
  },
  {
   "cell_type": "code",
   "execution_count": 12,
   "metadata": {},
   "outputs": [
    {
     "data": {
      "text/plain": [
       "{ legs: 3, name: 'Harmony', color: 'Tortoiseshell' }"
      ]
     },
     "execution_count": 12,
     "metadata": {},
     "output_type": "execute_result"
    }
   ],
   "source": [
    "var cat = {};\n",
    "cat.legs = 3;\n",
    "cat.name = \"Harmony\";\n",
    "cat.color = \"Tortoiseshell\";\n",
    "cat;"
   ]
  },
  {
   "cell_type": "code",
   "execution_count": 13,
   "metadata": {},
   "outputs": [],
   "source": [
    "var dog = {\n",
    "  name: \"Pancake\",\n",
    "  legs: 4,\n",
    "  isAwesome: true\n",
    "};\n",
    "dog.isBrown;"
   ]
  },
  {
   "cell_type": "code",
   "execution_count": 15,
   "metadata": {},
   "outputs": [
    {
     "data": {
      "text/plain": [
       "{ name: 'Tyrannosaurus Rex', period: 'Late Cretaceous' }"
      ]
     },
     "execution_count": 15,
     "metadata": {},
     "output_type": "execute_result"
    }
   ],
   "source": [
    "var dinosaurs = [\n",
    "  { name: \"Tyrannosaurus Rex\", period: \"Late Cretaceous\" },\n",
    "  { name: \"Stegosaurus\", period: \"Late Jurassic\" },\n",
    "  { name: \"Plateosaurus\", period: \"Triassic\" }\n",
    "];\n",
    "dinosaurs[0];"
   ]
  },
  {
   "cell_type": "code",
   "execution_count": 16,
   "metadata": {},
   "outputs": [
    {
     "data": {
      "text/plain": [
       "'Tyrannosaurus Rex'"
      ]
     },
     "execution_count": 16,
     "metadata": {},
     "output_type": "execute_result"
    }
   ],
   "source": [
    "dinosaurs[0][\"name\"];"
   ]
  },
  {
   "cell_type": "code",
   "execution_count": 17,
   "metadata": {},
   "outputs": [
    {
     "data": {
      "text/plain": [
       "'Late Jurassic'"
      ]
     },
     "execution_count": 17,
     "metadata": {},
     "output_type": "execute_result"
    }
   ],
   "source": [
    "dinosaurs[1].period;"
   ]
  },
  {
   "cell_type": "code",
   "execution_count": 18,
   "metadata": {},
   "outputs": [
    {
     "data": {
      "text/plain": [
       "[ { name: 'Anna', age: 11, luckyNumbers: [ 2, 4, 8, 16 ] },\n",
       "  { name: 'Dave', age: 5, luckyNumbers: [ 3, 9, 40 ] },\n",
       "  { name: 'Kate', age: 9, luckyNumbers: [ 1, 2, 3 ] } ]"
      ]
     },
     "execution_count": 18,
     "metadata": {},
     "output_type": "execute_result"
    }
   ],
   "source": [
    "var anna = { name: \"Anna\", age: 11, luckyNumbers: [2, 4, 8, 16] };\n",
    "var dave = { name: \"Dave\", age: 5, luckyNumbers: [3, 9, 40] };\n",
    "var kate = { name: \"Kate\", age: 9, luckyNumbers: [1, 2, 3] };\n",
    "var friends = [anna, dave, kate];\n",
    "friends;"
   ]
  },
  {
   "cell_type": "code",
   "execution_count": 19,
   "metadata": {},
   "outputs": [
    {
     "data": {
      "text/plain": [
       "{ name: 'Dave', age: 5, luckyNumbers: [ 3, 9, 40 ] }"
      ]
     },
     "execution_count": 19,
     "metadata": {},
     "output_type": "execute_result"
    }
   ],
   "source": [
    "friends[1];"
   ]
  },
  {
   "cell_type": "code",
   "execution_count": 20,
   "metadata": {},
   "outputs": [
    {
     "data": {
      "text/plain": [
       "'Kate'"
      ]
     },
     "execution_count": 20,
     "metadata": {},
     "output_type": "execute_result"
    }
   ],
   "source": [
    "friends[2].name"
   ]
  },
  {
   "cell_type": "code",
   "execution_count": 21,
   "metadata": {},
   "outputs": [
    {
     "data": {
      "text/plain": [
       "4"
      ]
     },
     "execution_count": 21,
     "metadata": {},
     "output_type": "execute_result"
    }
   ],
   "source": [
    "friends[0].luckyNumbers[1];"
   ]
  },
  {
   "cell_type": "code",
   "execution_count": 23,
   "metadata": {},
   "outputs": [],
   "source": [
    "var owedMoney = {}; \n",
    "owedMoney[\"Jimmy\"] = 5; \n",
    "owedMoney[\"Anna\"] = 7; \n",
    "owedMoney[\"Jimmy\"];\n",
    "owedMoney[\"Jinen\"];"
   ]
  },
  {
   "cell_type": "code",
   "execution_count": 24,
   "metadata": {},
   "outputs": [
    {
     "data": {
      "text/plain": [
       "8"
      ]
     },
     "execution_count": 24,
     "metadata": {},
     "output_type": "execute_result"
    }
   ],
   "source": [
    "owedMoney[\"Jimmy\"] += 3;\n",
    "owedMoney[\"Jimmy\"];"
   ]
  },
  {
   "cell_type": "code",
   "execution_count": 25,
   "metadata": {},
   "outputs": [
    {
     "data": {
      "text/plain": [
       "{ Jimmy: 8, Anna: 7 }"
      ]
     },
     "execution_count": 25,
     "metadata": {},
     "output_type": "execute_result"
    }
   ],
   "source": [
    "owedMoney;"
   ]
  },
  {
   "cell_type": "code",
   "execution_count": 27,
   "metadata": {},
   "outputs": [
    {
     "data": {
      "text/plain": [
       "100"
      ]
     },
     "execution_count": 27,
     "metadata": {},
     "output_type": "execute_result"
    }
   ],
   "source": [
    "var movies = {\n",
    "  \"Finding Nemo\": {\n",
    "    releaseDate: 2003,\n",
    "    duration: 100,\n",
    "    actors: [\"Albert Brooks\", \"Ellen DeGeneres\", \"Alexander Gould\"],\n",
    "    format: \"DVD\"\n",
    "  },\n",
    "  \"Star Wars: Episode VI - Return of the Jedi\": {\n",
    "    releaseDate: 1983,\n",
    "    duration: 134,\n",
    "    actors: [\"Mark Hamill\", \"Harrison Ford\", \"Carrie Fisher\"],\n",
    "    format: \"DVD\"\n",
    "  },\n",
    "  \"Harry Potter and the Goblet of Fire\": {\n",
    "    releaseDate: 2005,\n",
    "    duration: 157,\n",
    "    actors: [\"Daniel Radcliffe\", \"Emma Watson\", \"Rupert Grint\"],\n",
    "    format: \"Blu-ray\"\n",
    "} };\n",
    "var findingNemo = movies[\"Finding Nemo\"];\n",
    "findingNemo.duration;"
   ]
  },
  {
   "cell_type": "code",
   "execution_count": 28,
   "metadata": {},
   "outputs": [
    {
     "data": {
      "text/plain": [
       "'DVD'"
      ]
     },
     "execution_count": 28,
     "metadata": {},
     "output_type": "execute_result"
    }
   ],
   "source": [
    "findingNemo.format;"
   ]
  },
  {
   "cell_type": "code",
   "execution_count": 29,
   "metadata": {},
   "outputs": [
    {
     "data": {
      "text/plain": [
       "{ releaseDate: 2006,\n",
       "  duration: 117,\n",
       "  actors: [ 'Owen Wilson', 'Bonnie Hunt', 'Paul Newman' ],\n",
       "  format: 'Blu-ray' }"
      ]
     },
     "execution_count": 29,
     "metadata": {},
     "output_type": "execute_result"
    }
   ],
   "source": [
    "var cars = {\n",
    "  releaseDate: 2006,\n",
    "  duration: 117,\n",
    "  actors: [\"Owen Wilson\", \"Bonnie Hunt\", \"Paul Newman\"],\n",
    "  format: \"Blu-ray\"\n",
    "};\n",
    "movies[\"Cars\"] = cars;"
   ]
  },
  {
   "cell_type": "code",
   "execution_count": 30,
   "metadata": {},
   "outputs": [
    {
     "data": {
      "text/plain": [
       "[ 'Finding Nemo',\n",
       "  'Star Wars: Episode VI - Return of the Jedi',\n",
       "  'Harry Potter and the Goblet of Fire',\n",
       "  'Cars' ]"
      ]
     },
     "execution_count": 30,
     "metadata": {},
     "output_type": "execute_result"
    }
   ],
   "source": [
    "Object.keys(movies);"
   ]
  },
  {
   "cell_type": "code",
   "execution_count": 39,
   "metadata": {},
   "outputs": [
    {
     "data": {
      "text/plain": [
       "123"
      ]
     },
     "execution_count": 39,
     "metadata": {},
     "output_type": "execute_result"
    }
   ],
   "source": [
    "var myCrazyObject = {\n",
    "  \"name\": \"A ridiculous object\",\n",
    "  \"some array\": [7, 9, { purpose: \"confusion\", number: 123 }, 3.3], \n",
    "  \"random animal\": \"Banana Shark\"\n",
    "};\n",
    "myCrazyObject['some array'][2]['number'];"
   ]
  }
 ],
 "metadata": {
  "kernelspec": {
   "display_name": "Javascript (Node.js)",
   "language": "javascript",
   "name": "javascript"
  },
  "language_info": {
   "file_extension": ".js",
   "mimetype": "application/javascript",
   "name": "javascript",
   "version": "8.6.0"
  }
 },
 "nbformat": 4,
 "nbformat_minor": 2
}
