{
 "cells": [
  {
   "cell_type": "markdown",
   "metadata": {},
   "source": [
    "# List"
   ]
  },
  {
   "cell_type": "code",
   "execution_count": null,
   "metadata": {},
   "outputs": [],
   "source": [
    "# make a list with integer, float, string types and store it to var\n",
    "var = [10 ,\"Apple\" ,\"a+b\", 5.5, \"Ball\" ]\n",
    "# access individual items of list using square brackets [] in variable name\n",
    "print(var[0])\n",
    "print(var[1])\n",
    "print(var[2])"
   ]
  },
  {
   "cell_type": "code",
   "execution_count": null,
   "metadata": {},
   "outputs": [],
   "source": [
    "# use negative indexing \n",
    "print(var[-1])\n",
    "print(var[-2])"
   ]
  },
  {
   "cell_type": "code",
   "execution_count": null,
   "metadata": {},
   "outputs": [],
   "source": [
    "# use len() to find length\n",
    "brands = [\"Coke\", \"Apple\", \"Google\", \"Microsoft\", \"Toyota\"]\n",
    "num_brands = len(brands)\n",
    "print(num_brands)"
   ]
  },
  {
   "cell_type": "code",
   "execution_count": null,
   "metadata": {},
   "outputs": [],
   "source": [
    "# Slice a list in python using positive and negative indexing\n",
    "fruits = [\"Apple\", \"Banana\", \"Mango\", \"Grapes\", \"Orange\"]\n",
    "\n",
    "print(fruits[1:4])\n",
    "print(fruits[ : 3])\n",
    "print(fruits[-4:])\n",
    "print(fruits[-3:-1])"
   ]
  },
  {
   "cell_type": "code",
   "execution_count": null,
   "metadata": {},
   "outputs": [],
   "source": [
    "# Modify elements of a list in python using index of the elements\n",
    "fruits = [\"Apple\", \"Banana\", \"Mango\", \"Grapes\", \"Orange\"]\n",
    "\n",
    "fruits[1] = \"Pineapple\"\n",
    "fruits[-1] = \"Guava\"\n",
    "print(fruits)"
   ]
  },
  {
   "cell_type": "code",
   "execution_count": null,
   "metadata": {},
   "outputs": [],
   "source": [
    "# Combine two arrays using + operator\n",
    "concat = [1, 2, 3]\n",
    "concat + [4,5,6]\n",
    "print(concat)"
   ]
  },
  {
   "cell_type": "code",
   "execution_count": null,
   "metadata": {},
   "outputs": [],
   "source": [
    "# Repeat elements in a list using * operator \n",
    "repeat = [\"a\"]\n",
    "repeat = repeat * 5\n",
    "print(repeat)"
   ]
  },
  {
   "cell_type": "code",
   "execution_count": null,
   "metadata": {},
   "outputs": [],
   "source": [
    "# Add an element in a list using append() \n",
    "add = ['a', 'b', 'c']\n",
    "add.append('d')\n",
    "print(add)"
   ]
  },
  {
   "cell_type": "code",
   "execution_count": null,
   "metadata": {},
   "outputs": [],
   "source": [
    "# Remove elements of an array using del, remove() and pop()\n",
    "colors = [\"violet\", \"indigo\", \"blue\", \"green\", \"yellow\", \"orange\", \"red\"  ]\n",
    "\n",
    "del color[4]\n",
    "colors.remove(\"blue\")\n",
    "colors.pop(3)\n",
    "print(color)"
   ]
  },
  {
   "cell_type": "code",
   "execution_count": null,
   "metadata": {},
   "outputs": [],
   "source": [
    "# Declare a two-dimensional list in python using lists and accessing it using list index\n",
    "multd = [[1,2], [3,4], [5,6], [7,8]]\n",
    "\n",
    "print(multd[0])\n",
    "\n",
    "print(multd[3])\n",
    "\n",
    "print(multd[2][1])\n",
    "\n",
    "print(multd[3][0])"
   ]
  }
 ],
 "metadata": {
  "kernelspec": {
   "display_name": "Python 3",
   "language": "python",
   "name": "python3"
  },
  "language_info": {
   "codemirror_mode": {
    "name": "ipython",
    "version": 2
   },
   "file_extension": ".py",
   "mimetype": "text/x-python",
   "name": "python",
   "nbconvert_exporter": "python",
   "pygments_lexer": "ipython2",
   "version": "2.7.10"
  }
 },
 "nbformat": 4,
 "nbformat_minor": 1
}
