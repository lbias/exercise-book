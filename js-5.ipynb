{
 "cells": [
  {
   "cell_type": "code",
   "execution_count": 29,
   "metadata": {},
   "outputs": [
    {
     "data": {
      "text/plain": [
       "'monkey'"
      ]
     },
     "execution_count": 29,
     "metadata": {},
     "output_type": "execute_result"
    }
   ],
   "source": [
    "// choose a random word\n",
    "var words = [ \n",
    "  \"javascript\",\n",
    "  \"monkey\",\n",
    "  \"amazing\",\n",
    "  \"pancake\"\n",
    "];\n",
    "var word = words[Math.floor(Math.random() * words.length)];\n",
    "word;"
   ]
  },
  {
   "cell_type": "code",
   "execution_count": 32,
   "metadata": {},
   "outputs": [
    {
     "data": {
      "text/plain": [
       "'_'"
      ]
     },
     "execution_count": 32,
     "metadata": {},
     "output_type": "execute_result"
    }
   ],
   "source": [
    "// create the answer array\n",
    "var answerArray = [];\n",
    "for (var i = 0; i < word.length; i++) {\n",
    "  answerArray[i] = \"_\";\n",
    "}\n",
    "var remainingLetters = word.length;"
   ]
  },
  {
   "cell_type": "code",
   "execution_count": 33,
   "metadata": {},
   "outputs": [
    {
     "name": "stdout",
     "output_type": "stream",
     "text": [
      "Hello world!\n"
     ]
    }
   ],
   "source": [
    "var ourFirstFunction = function () {\n",
    "  console.log(\"Hello world!\");\n",
    "};\n",
    "ourFirstFunction();"
   ]
  },
  {
   "cell_type": "code",
   "execution_count": 35,
   "metadata": {},
   "outputs": [
    {
     "name": "stdout",
     "output_type": "stream",
     "text": [
      "Hello Peter!\n"
     ]
    }
   ],
   "source": [
    "var sayHelloTo = function (name) {\n",
    "  console.log(\"Hello \" + name + \"!\");\n",
    "};\n",
    "sayHelloTo(\"Peter\");"
   ]
  },
  {
   "cell_type": "code",
   "execution_count": 36,
   "metadata": {},
   "outputs": [
    {
     "name": "stdout",
     "output_type": "stream",
     "text": [
      "Hello Lyra!\n"
     ]
    }
   ],
   "source": [
    "sayHelloTo(\"Lyra\");"
   ]
  },
  {
   "cell_type": "code",
   "execution_count": 37,
   "metadata": {},
   "outputs": [
    {
     "name": "stdout",
     "output_type": "stream",
     "text": [
      "0 =^.^=\n",
      "1 =^.^=\n",
      "2 =^.^=\n",
      "3 =^.^=\n",
      "4 =^.^=\n"
     ]
    }
   ],
   "source": [
    "var drawCats = function (howManyTimes) {\n",
    "  for (var i = 0; i < howManyTimes; i++) {\n",
    "    console.log(i + \" =^.^=\");\n",
    "  }\n",
    "};\n",
    "drawCats(5);"
   ]
  },
  {
   "cell_type": "code",
   "execution_count": 38,
   "metadata": {},
   "outputs": [
    {
     "name": "stdout",
     "output_type": "stream",
     "text": [
      "0 =^.^=\n",
      "1 =^.^=\n",
      "2 =^.^=\n",
      "3 =^.^=\n",
      "4 =^.^=\n"
     ]
    }
   ],
   "source": [
    "var printMultipleTimes = function (howManyTimes, whatToDraw) {\n",
    "  for (var i = 0; i < howManyTimes; i++) {\n",
    "    console.log(i + \" \" + whatToDraw);\n",
    "  }\n",
    "};\n",
    "printMultipleTimes(5, \"=^.^=\");"
   ]
  },
  {
   "cell_type": "code",
   "execution_count": 40,
   "metadata": {},
   "outputs": [
    {
     "name": "stdout",
     "output_type": "stream",
     "text": [
      "0 ^_^\n",
      "1 ^_^\n",
      "2 ^_^\n"
     ]
    }
   ],
   "source": [
    "printMultipleTimes(3, \"^_^\");"
   ]
  },
  {
   "cell_type": "code",
   "execution_count": 41,
   "metadata": {},
   "outputs": [
    {
     "name": "stdout",
     "output_type": "stream",
     "text": [
      "0 (>_<)\n",
      "1 (>_<)\n"
     ]
    }
   ],
   "source": [
    "printMultipleTimes(2, \"(>_<)\");"
   ]
  },
  {
   "cell_type": "code",
   "execution_count": 42,
   "metadata": {},
   "outputs": [
    {
     "data": {
      "text/plain": [
       "6"
      ]
     },
     "execution_count": 42,
     "metadata": {},
     "output_type": "execute_result"
    }
   ],
   "source": [
    "5 + Math.floor(1.2345);"
   ]
  },
  {
   "cell_type": "code",
   "execution_count": 44,
   "metadata": {},
   "outputs": [
    {
     "data": {
      "text/plain": [
       "6"
      ]
     },
     "execution_count": 44,
     "metadata": {},
     "output_type": "execute_result"
    }
   ],
   "source": [
    "var double = function (number) { \n",
    "  return number * 2;\n",
    "};\n",
    "double(3);"
   ]
  },
  {
   "cell_type": "code",
   "execution_count": 45,
   "metadata": {},
   "outputs": [
    {
     "data": {
      "text/plain": [
       "22"
      ]
     },
     "execution_count": 45,
     "metadata": {},
     "output_type": "execute_result"
    }
   ],
   "source": [
    "double(5) + double(6);"
   ]
  },
  {
   "cell_type": "code",
   "execution_count": 46,
   "metadata": {},
   "outputs": [
    {
     "data": {
      "text/plain": [
       "12"
      ]
     },
     "execution_count": 46,
     "metadata": {},
     "output_type": "execute_result"
    }
   ],
   "source": [
    "double(double(3));"
   ]
  },
  {
   "cell_type": "code",
   "execution_count": 50,
   "metadata": {},
   "outputs": [
    {
     "data": {
      "text/plain": [
       "'Worm'"
      ]
     },
     "execution_count": 50,
     "metadata": {},
     "output_type": "execute_result"
    }
   ],
   "source": [
    "var pickRandomWord = function (words) {\n",
    "                return words[Math.floor(Math.random() * words.length)];\n",
    "};\n",
    "var randomWords = [\"Planet\", \"Worm\", \"Flower\", \"Computer\"];\n",
    "pickRandomWord(randomWords);"
   ]
  },
  {
   "cell_type": "code",
   "execution_count": 49,
   "metadata": {},
   "outputs": [
    {
     "data": {
      "text/plain": [
       "'Nicole'"
      ]
     },
     "execution_count": 49,
     "metadata": {},
     "output_type": "execute_result"
    }
   ],
   "source": [
    "pickRandomWord([\"Charlie\", \"Raj\", \"Nicole\", \"Kate\", \"Sandy\"]);"
   ]
  },
  {
   "cell_type": "code",
   "execution_count": 51,
   "metadata": {},
   "outputs": [
    {
     "data": {
      "text/plain": [
       "'Your Hair is like a Boring Rat!!!'"
      ]
     },
     "execution_count": 51,
     "metadata": {},
     "output_type": "execute_result"
    }
   ],
   "source": [
    "var randomBodyParts = [\"Face\", \"Nose\", \"Hair\"];\n",
    "var randomAdjectives = [\"Smelly\", \"Boring\", \"Stupid\"];\n",
    "var randomWords = [\"Fly\", \"Marmot\", \"Stick\", \"Monkey\", \"Rat\"];\n",
    "// Pick a random body part from the randomBodyParts array:\n",
    "var randomBodyPart = randomBodyParts[Math.floor(Math.random() * 3)]; // Pick a random adjective from the randomAdjectives array:\n",
    "var randomAdjective = randomAdjectives[Math.floor(Math.random() * 3)]; // Pick a random word from the randomWords array:\n",
    "var randomWord = randomWords[Math.floor(Math.random() * 5)];\n",
    "// Join all the random strings into a sentence:\n",
    "var randomString = \"Your \" + randomBodyPart + \" is like a \" + \n",
    "    randomAdjective + \" \" + randomWord + \"!!!\";\n",
    "randomString;"
   ]
  },
  {
   "cell_type": "code",
   "execution_count": 54,
   "metadata": {},
   "outputs": [
    {
     "data": {
      "text/plain": [
       "'Your Face is like a Smelly Stick!!!'"
      ]
     },
     "execution_count": 54,
     "metadata": {},
     "output_type": "execute_result"
    }
   ],
   "source": [
    "var randomBodyParts = [\"Face\", \"Nose\", \"Hair\"];\n",
    "var randomAdjectives = [\"Smelly\", \"Boring\", \"Stupid\"];\n",
    "var randomWords = [\"Fly\", \"Marmot\", \"Stick\", \"Monkey\", \"Rat\"];\n",
    "// Join all the random strings into a sentence:\n",
    "var randomString = \"Your \" + pickRandomWord(randomBodyParts) + \n",
    "    \" is like a \" + pickRandomWord(randomAdjectives) +\n",
    "    \" \" + pickRandomWord(randomWords) + \"!!!\";\n",
    "randomString;"
   ]
  },
  {
   "cell_type": "code",
   "execution_count": 55,
   "metadata": {},
   "outputs": [
    {
     "data": {
      "text/plain": [
       "'Your Nose is like a Smelly Stick!!!'"
      ]
     },
     "execution_count": 55,
     "metadata": {},
     "output_type": "execute_result"
    }
   ],
   "source": [
    "generateRandomInsult = function () {\n",
    "  var randomBodyParts = [\"Face\", \"Nose\", \"Hair\"];\n",
    "  var randomAdjectives = [\"Smelly\", \"Boring\", \"Stupid\"];\n",
    "  var randomWords = [\"Fly\", \"Marmot\", \"Stick\", \"Monkey\", \"Rat\"];\n",
    "  // Join all the random strings into a sentence:\n",
    "  var randomString = \"Your \" + pickRandomWord(randomBodyParts) + \n",
    "    \" is like a \" + pickRandomWord(randomAdjectives) +\n",
    "    \" \" + pickRandomWord(randomWords) + \"!!!\";\n",
    "  return randomString;\n",
    "};\n",
    "generateRandomInsult();"
   ]
  },
  {
   "cell_type": "code",
   "execution_count": 57,
   "metadata": {},
   "outputs": [
    {
     "data": {
      "text/plain": [
       "'The fifth letter of your name is r.'"
      ]
     },
     "execution_count": 57,
     "metadata": {},
     "output_type": "execute_result"
    }
   ],
   "source": [
    "var fifthLetter = function (name) { \n",
    "  if (name.length < 5) {\n",
    "    return;\n",
    "  }\n",
    "  return \"The fifth letter of your name is \" + name[4] + \".\";\n",
    "};\n",
    "fifthLetter(\"Rogers\");"
   ]
  },
  {
   "cell_type": "code",
   "execution_count": 58,
   "metadata": {},
   "outputs": [],
   "source": [
    "var medalForScore = function (score) {\n",
    "    if (score < 3) {\n",
    "        return \"Bronze\";\n",
    "    }\n",
    "    if (score < 7) {\n",
    "        return \"Silver\";\n",
    "    }\n",
    "    return \"Gold\";\n",
    "};"
   ]
  },
  {
   "cell_type": "code",
   "execution_count": 59,
   "metadata": {},
   "outputs": [
    {
     "data": {
      "text/plain": [
       "356857577"
      ]
     },
     "execution_count": 59,
     "metadata": {},
     "output_type": "execute_result"
    }
   ],
   "source": [
    "36325 * 9824 + 777"
   ]
  },
  {
   "cell_type": "code",
   "execution_count": null,
   "metadata": {},
   "outputs": [],
   "source": [
    "// Get a random number from 0 to size\n",
    "var getRandomNumber = function (size) {\n",
    "  return Math.floor(Math.random() * size);\n",
    "};\n",
    "\n",
    "// Calculate distance between click event and target\n",
    "var getDistance = function (event, target) {\n",
    "  var diffX = event.offsetX - target.x;\n",
    "  var diffY = event.offsetY - target.y;\n",
    "  return Math.sqrt((diffX * diffX) + (diffY * diffY));\n",
    "};\n",
    "\n",
    "// Get a string representing the distance\n",
    "var getDistanceHint = function (distance) {\n",
    "  if (distance < 10) {\n",
    "    return \"Boiling hot!\";\n",
    "  } else if (distance < 20) {\n",
    "    return \"Really hot\";\n",
    "  } else if (distance < 40) {\n",
    "    return \"Hot\";\n",
    "  } else if (distance < 80) {\n",
    "    return \"Warm\";\n",
    "  } else if (distance < 160) {\n",
    "    return \"Cold\";\n",
    "  } else if (distance < 320) {\n",
    "    return \"Really cold\";\n",
    "  } else {\n",
    "    return \"Freezing!\";\n",
    "  } \n",
    "};\n",
    "\n",
    "// Set up our variables\n",
    "var width = 400; \n",
    "var height = 400; \n",
    "var clicks = 0;\n",
    "\n",
    "// Create a random target location\n",
    "var target = {\n",
    "  x: getRandomNumber(width), \n",
    "  y: getRandomNumber(height)\n",
    "};\n",
    "\n",
    "// Add a click handler to the img element\n",
    "$(\"#map\").click(function (event) { \n",
    "  clicks++;\n",
    "\n",
    "  // Get distance between click event and target\n",
    "  var distance = getDistance(event, target); \n",
    "    \n",
    "  // Convert distance to a hint\n",
    "  var distanceHint = getDistanceHint(distance);\n",
    "    \n",
    "  // Update the #distance element with the new hint\n",
    "  $(\"#distance\").text(distanceHint);\n",
    "    \n",
    "  // If the click was close enough, tell them they won\n",
    "  { if (distance < 8) {\n",
    "    alert(\"Found the treasure in \" + clicks + \" clicks!\");\n",
    "  } \n",
    "});      "
   ]
  },
  {
   "cell_type": "code",
   "execution_count": 65,
   "metadata": {},
   "outputs": [
    {
     "data": {
      "text/plain": [
       "'Pancake'"
      ]
     },
     "execution_count": 65,
     "metadata": {},
     "output_type": "execute_result"
    }
   ],
   "source": [
    "var dog = {\n",
    "  name: \"Pancake\",\n",
    "  legs: 4,\n",
    "  isAwesome: true\n",
    "};\n",
    "dog.name;"
   ]
  },
  {
   "cell_type": "code",
   "execution_count": 66,
   "metadata": {},
   "outputs": [
    {
     "data": {
      "text/plain": [
       "6"
      ]
     },
     "execution_count": 66,
     "metadata": {},
     "output_type": "execute_result"
    }
   ],
   "source": [
    "dog.age = 6;"
   ]
  },
  {
   "cell_type": "code",
   "execution_count": 67,
   "metadata": {},
   "outputs": [
    {
     "data": {
      "text/plain": [
       "{ name: 'Pancake', legs: 4, isAwesome: true, age: 6 }"
      ]
     },
     "execution_count": 67,
     "metadata": {},
     "output_type": "execute_result"
    }
   ],
   "source": [
    "dog;"
   ]
  },
  {
   "cell_type": "code",
   "execution_count": 68,
   "metadata": {},
   "outputs": [
    {
     "name": "stdout",
     "output_type": "stream",
     "text": [
      "Woof woof! My name is Pancake!\n"
     ]
    }
   ],
   "source": [
    "dog.bark = function () {\n",
    "    console.log(\"Woof woof! My name is \" + this.name + \"!\");\n",
    "};\n",
    "dog.bark();"
   ]
  },
  {
   "cell_type": "code",
   "execution_count": 69,
   "metadata": {},
   "outputs": [
    {
     "name": "stdout",
     "output_type": "stream",
     "text": [
      "Miaow! My name is Mittens!\n"
     ]
    }
   ],
   "source": [
    "var speak = function () {\n",
    "    console.log(this.sound + \"! My name is \" + this.name + \"!\");\n",
    "};\n",
    "var cat = {\n",
    "    sound: \"Miaow\",\n",
    "    name: \"Mittens\",\n",
    "    speak: speak \n",
    "};\n",
    "cat.speak();"
   ]
  },
  {
   "cell_type": "code",
   "execution_count": 70,
   "metadata": {},
   "outputs": [
    {
     "name": "stdout",
     "output_type": "stream",
     "text": [
      "Oink! My name is Charlie!\n"
     ]
    }
   ],
   "source": [
    "var pig = {\n",
    "     sound: \"Oink\",\n",
    "     name: \"Charlie\",\n",
    "     speak: speak\n",
    "};\n",
    "   var horse = {\n",
    "     sound: \"Neigh\",\n",
    "     name: \"Marie\",\n",
    "     speak: speak\n",
    "};\n",
    "pig.speak();"
   ]
  },
  {
   "cell_type": "code",
   "execution_count": 71,
   "metadata": {},
   "outputs": [
    {
     "name": "stdout",
     "output_type": "stream",
     "text": [
      "Neigh! My name is Marie!\n"
     ]
    }
   ],
   "source": [
    "horse.speak();"
   ]
  },
  {
   "cell_type": "code",
   "execution_count": 72,
   "metadata": {},
   "outputs": [
    {
     "data": {
      "text/plain": [
       "Car { x: 10, y: 20 }"
      ]
     },
     "execution_count": 72,
     "metadata": {},
     "output_type": "execute_result"
    }
   ],
   "source": [
    "var Car = function (x, y) {\n",
    "      this.x = x;\n",
    "      this.y = y;\n",
    "};\n",
    "var tesla = new Car(10, 20);\n",
    "tesla;"
   ]
  },
  {
   "cell_type": "code",
   "execution_count": null,
   "metadata": {},
   "outputs": [],
   "source": [
    "var drawCar = function (car) {\n",
    "    var carHtml = '<img src=\"http://nostarch.com/images/car.png\">';\n",
    "    var carElement = $(carHtml);\n",
    "    carElement.css({ \n",
    "        position: \"absolute\",\n",
    "        left: car.x,\n",
    "        top: car.y\n",
    "    });\n",
    "    $(\"body\").append(carElement);\n",
    "};\n",
    "var tesla = new Car(20, 20);\n",
    "var nissan = new Car(100, 200);\n",
    "drawCar(tesla);\n",
    "drawCar(nissan);"
   ]
  },
  {
   "cell_type": "code",
   "execution_count": null,
   "metadata": {},
   "outputs": [],
   "source": []
  }
 ],
 "metadata": {
  "kernelspec": {
   "display_name": "Javascript (Node.js)",
   "language": "javascript",
   "name": "javascript"
  },
  "language_info": {
   "file_extension": ".js",
   "mimetype": "application/javascript",
   "name": "javascript",
   "version": "8.6.0"
  }
 },
 "nbformat": 4,
 "nbformat_minor": 2
}
