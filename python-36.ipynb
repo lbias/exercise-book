{
 "cells": [
  {
   "cell_type": "markdown",
   "metadata": {},
   "source": [
    "# Three methods to add elements to a list\n",
    "## Append\n",
    "\n",
    "append adds an element at the end of an existing list. \n",
    "\n",
    "`a.append(x)`, it is equivalent to a[len(a):] = [x]"
   ]
  },
  {
   "cell_type": "code",
   "execution_count": 1,
   "metadata": {},
   "outputs": [
    {
     "name": "stdout",
     "output_type": "stream",
     "text": [
      "[1, 'x', 2, 'y']\n"
     ]
    }
   ],
   "source": [
    "a=[1, 'x', 2]\n",
    "a.append('y')\n",
    "print(a)"
   ]
  },
  {
   "cell_type": "markdown",
   "metadata": {},
   "source": [
    "## Insert\n",
    "\n",
    "Insert method inserts an item at a specified position within the given list.\n",
    "\n",
    "`a.insert(i, x)`, i is the index of the elment before which to instert the element x."
   ]
  },
  {
   "cell_type": "code",
   "execution_count": 2,
   "metadata": {},
   "outputs": [
    {
     "name": "stdout",
     "output_type": "stream",
     "text": [
      "[1, 'x', 2, 'y']\n"
     ]
    }
   ],
   "source": [
    "a = [1, 'x', 'y']  \n",
    "a.insert(2, 2)\n",
    "print(a)  "
   ]
  },
  {
   "cell_type": "markdown",
   "metadata": {},
   "source": [
    "## Extend\n",
    "This method adds elements to a list by adding on all the elemtns of the iterable you pass to it. The resulting list is one containing all of the elements of both lists.\n",
    "\n",
    "`a.extend(x)`"
   ]
  },
  {
   "cell_type": "code",
   "execution_count": 3,
   "metadata": {},
   "outputs": [
    {
     "name": "stdout",
     "output_type": "stream",
     "text": [
      "[1, 'x', 'y', 1, 2]\n"
     ]
    }
   ],
   "source": [
    "a = [1, 'x', 'y']  \n",
    "b = [1, 2]  \n",
    "a.extend(b)\n",
    "print(a)  "
   ]
  },
  {
   "cell_type": "code",
   "execution_count": 5,
   "metadata": {},
   "outputs": [
    {
     "name": "stdout",
     "output_type": "stream",
     "text": [
      "[1, 'x', 'y', [2, 3]]\n",
      "[1, 'x', [2, 3], 'y']\n",
      "[1, 'x', 'y', 2, 3]\n"
     ]
    }
   ],
   "source": [
    "a1 = [1, 'x', 'y']  \n",
    "a2 = [1, 'x', 'y']  \n",
    "a3 = [1, 'x', 'y']\n",
    "\n",
    "b = [2, 3]\n",
    "\n",
    "a1.append(b)  \n",
    "a2.insert(2, b)  \n",
    "a3.extend(b)\n",
    "\n",
    "print(a1)  \n",
    "print(a2)  \n",
    "print(a3) "
   ]
  },
  {
   "cell_type": "markdown",
   "metadata": {},
   "source": [
    "## The time complexities are as follow:\n",
    "\n",
    "|Method|Time Complexity|\n",
    "|------|:-------------:|\n",
    "|append()|O(1)|\n",
    "|insert()|O(n)|\n",
    "|extend()|O(k)|\n",
    "\n",
    "'n' is the number of elements currently in the list, and 'k' is the number of elements in the parameter object."
   ]
  }
 ],
 "metadata": {
  "kernelspec": {
   "display_name": "Python 3",
   "language": "python",
   "name": "python3"
  },
  "language_info": {
   "codemirror_mode": {
    "name": "ipython",
    "version": 3
   },
   "file_extension": ".py",
   "mimetype": "text/x-python",
   "name": "python",
   "nbconvert_exporter": "python",
   "pygments_lexer": "ipython3",
   "version": "3.6.3"
  }
 },
 "nbformat": 4,
 "nbformat_minor": 2
}
